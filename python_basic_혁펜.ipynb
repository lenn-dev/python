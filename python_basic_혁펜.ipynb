{
  "nbformat": 4,
  "nbformat_minor": 0,
  "metadata": {
    "colab": {
      "provenance": [],
      "authorship_tag": "ABX9TyO55WF+oX94yaO85V8x45Y8",
      "include_colab_link": true
    },
    "kernelspec": {
      "name": "python3",
      "display_name": "Python 3"
    },
    "language_info": {
      "name": "python"
    }
  },
  "cells": [
    {
      "cell_type": "markdown",
      "metadata": {
        "id": "view-in-github",
        "colab_type": "text"
      },
      "source": [
        "<a href=\"https://colab.research.google.com/github/lenn-dev/python/blob/main/python_basic_%ED%98%81%ED%8E%9C.ipynb\" target=\"_parent\"><img src=\"https://colab.research.google.com/assets/colab-badge.svg\" alt=\"Open In Colab\"/></a>"
      ]
    },
    {
      "cell_type": "code",
      "execution_count": 47,
      "metadata": {
        "colab": {
          "base_uri": "https://localhost:8080/"
        },
        "id": "8-VKAKAX6Iae",
        "outputId": "f7430158-fe5e-4631-cda5-feafbb9d0549"
      },
      "outputs": [
        {
          "output_type": "stream",
          "name": "stdout",
          "text": [
            "Hello Wolrd\n"
          ]
        }
      ],
      "source": [
        "print(\"Hello Wolrd\")\n",
        "# ctrl +enter 현재 셀 실행\n",
        "# 주석처리\n",
        "# ctrl + / 로 셀처리 토글\n",
        "# shift + enter 실행하고 다음셀로 넘어감\n",
        "# alt + enter 실행하고 밑에 셀을 새로 생성\n",
        "# esc 하고 방향키 위아래로 셀 왔다갔다  엔터치면 다시 코드 작성\n",
        "# esc + 이 모드에서 a하면 위에 셀 b는 아래셀 생성\n",
        "# ctrl + m, d하면 셀 삭제 z 하면 셀 수준 실행 취소 ctrl+shift+y는 셀 수준 다시 실행\n",
        "# ctrl + z, ctrl+shift+z, ctrl+c, ctrl+v"
      ]
    },
    {
      "cell_type": "markdown",
      "source": [],
      "metadata": {
        "id": "tAmm4k44D8Ny"
      }
    },
    {
      "cell_type": "code",
      "source": [
        "5%2 # 모듈러 연산"
      ],
      "metadata": {
        "colab": {
          "base_uri": "https://localhost:8080/"
        },
        "id": "P4zQKCHLF74Y",
        "outputId": "56976fdd-9a32-438d-aa42-5705b5e9edea"
      },
      "execution_count": 48,
      "outputs": [
        {
          "output_type": "execute_result",
          "data": {
            "text/plain": [
              "1"
            ]
          },
          "metadata": {},
          "execution_count": 48
        }
      ]
    },
    {
      "cell_type": "code",
      "source": [
        "print(0b11) # 0b는 2진수\n",
        "print(0xA) # 0x는 16진수\n",
        "# print를 붙이지 않으면 마지막 열만 출력해서 다 print 해줌"
      ],
      "metadata": {
        "colab": {
          "base_uri": "https://localhost:8080/"
        },
        "id": "SJ-0-dGZGNV1",
        "outputId": "35d65a0b-e127-4369-c64a-6612e9398164"
      },
      "execution_count": 49,
      "outputs": [
        {
          "output_type": "stream",
          "name": "stdout",
          "text": [
            "3\n",
            "10\n"
          ]
        }
      ]
    },
    {
      "cell_type": "code",
      "source": [
        "# del a #변수 삭제"
      ],
      "metadata": {
        "id": "920SK7AqG0sW"
      },
      "execution_count": 50,
      "outputs": []
    },
    {
      "cell_type": "markdown",
      "source": [
        "## 리스트"
      ],
      "metadata": {
        "id": "RF7cIjWyrVBy"
      }
    },
    {
      "cell_type": "code",
      "source": [
        "# 리스트\n",
        "a=[]\n",
        "a.append(3)\n",
        "a += [1]  #.append와 같은 역할\n",
        "a += [\"ㅋㅎㅎ\"]\n",
        "a += [2]\n",
        "print(a)"
      ],
      "metadata": {
        "colab": {
          "base_uri": "https://localhost:8080/"
        },
        "id": "vmkugoOdRWPK",
        "outputId": "9556cdad-04ef-4860-f1fa-d5120e4a37fd"
      },
      "execution_count": 51,
      "outputs": [
        {
          "output_type": "stream",
          "name": "stdout",
          "text": [
            "[3, 1, 'ㅋㅎㅎ', 2]\n"
          ]
        }
      ]
    },
    {
      "cell_type": "code",
      "source": [
        "# 실전 예: 딥러닝에서 현재 계산된 loss값을 update 해나갈때 추이를 보고 싶을 때\n",
        "loss_history=[]\n",
        "loss =1\n",
        "loss_history +=[loss]#loss_history.append(loss)\n",
        "loss =0.5\n",
        "loss_history +=[loss]\n",
        "loss =0.1\n",
        "loss_history +=[loss]\n",
        "print(loss_history)"
      ],
      "metadata": {
        "colab": {
          "base_uri": "https://localhost:8080/"
        },
        "id": "h2zN4XO8Rk5A",
        "outputId": "958b2da8-56c1-41f0-f799-75ed73dd0111"
      },
      "execution_count": 52,
      "outputs": [
        {
          "output_type": "stream",
          "name": "stdout",
          "text": [
            "[1, 0.5, 0.1]\n"
          ]
        }
      ]
    },
    {
      "cell_type": "markdown",
      "source": [
        "## Range"
      ],
      "metadata": {
        "id": "h107z0U9rcs1"
      }
    },
    {
      "cell_type": "markdown",
      "source": [],
      "metadata": {
        "id": "9m18fBHUreEN"
      }
    },
    {
      "cell_type": "code",
      "source": [
        "# range 반복문 친구\n",
        "range(10) # range(0, 10)\n",
        "list(range(10)) #[0, 1, 2, 3, 4, 5, 6, 7, 8, 9]\n",
        "# 숫자 나열 보고 싶으면 range를 list로 바꿔줌"
      ],
      "metadata": {
        "colab": {
          "base_uri": "https://localhost:8080/"
        },
        "id": "QX_IyXJ9TfCu",
        "outputId": "499fb27c-74da-47f4-942c-6888136b9c90"
      },
      "execution_count": 53,
      "outputs": [
        {
          "output_type": "execute_result",
          "data": {
            "text/plain": [
              "[0, 1, 2, 3, 4, 5, 6, 7, 8, 9]"
            ]
          },
          "metadata": {},
          "execution_count": 53
        }
      ]
    },
    {
      "cell_type": "code",
      "source": [
        "b=list(range(1,11)) # 1부터 시작 11 미만\n",
        "print(b)\n",
        "c=list(range(1,11,2)) # 1부터 시작 11 미만 2간격\n",
        "print(c)\n",
        "print(list(range(10,0,-1)))"
      ],
      "metadata": {
        "colab": {
          "base_uri": "https://localhost:8080/"
        },
        "id": "lXxylxbqTWwa",
        "outputId": "87b3daf3-c84e-4f7e-9d76-57b3a23f930b"
      },
      "execution_count": 54,
      "outputs": [
        {
          "output_type": "stream",
          "name": "stdout",
          "text": [
            "[1, 2, 3, 4, 5, 6, 7, 8, 9, 10]\n",
            "[1, 3, 5, 7, 9]\n",
            "[10, 9, 8, 7, 6, 5, 4, 3, 2, 1]\n"
          ]
        }
      ]
    },
    {
      "cell_type": "markdown",
      "source": [
        "## 튜플"
      ],
      "metadata": {
        "id": "ubaFbPWcrfM-"
      }
    },
    {
      "cell_type": "code",
      "source": [
        "# 튜플\n",
        "a =(1,\"a\",3)\n",
        "b=[1,2,3]\n",
        "print(type(a))\n",
        "print(type(b))\n",
        "\n",
        "b=tuple(range(10))\n",
        "print(b)"
      ],
      "metadata": {
        "colab": {
          "base_uri": "https://localhost:8080/"
        },
        "id": "9_gHmocbUuKz",
        "outputId": "8627d738-02f2-4521-85d1-47df00f24d1d"
      },
      "execution_count": 55,
      "outputs": [
        {
          "output_type": "stream",
          "name": "stdout",
          "text": [
            "<class 'tuple'>\n",
            "<class 'list'>\n",
            "(0, 1, 2, 3, 4, 5, 6, 7, 8, 9)\n"
          ]
        }
      ]
    },
    {
      "cell_type": "code",
      "source": [
        "a= list(range(10))\n",
        "b= tuple(range(10))\n",
        "c= tuple(a)\n",
        "d= list(b)\n",
        "print(a)\n",
        "print(b)\n",
        "print(c)\n",
        "print(d)"
      ],
      "metadata": {
        "colab": {
          "base_uri": "https://localhost:8080/"
        },
        "id": "T2XWpIx5XDVu",
        "outputId": "2fd3e17c-4046-4a94-bfb1-bbfaeaf78095"
      },
      "execution_count": 56,
      "outputs": [
        {
          "output_type": "stream",
          "name": "stdout",
          "text": [
            "[0, 1, 2, 3, 4, 5, 6, 7, 8, 9]\n",
            "(0, 1, 2, 3, 4, 5, 6, 7, 8, 9)\n",
            "(0, 1, 2, 3, 4, 5, 6, 7, 8, 9)\n",
            "[0, 1, 2, 3, 4, 5, 6, 7, 8, 9]\n"
          ]
        }
      ]
    },
    {
      "cell_type": "code",
      "source": [
        "#in 있냐?\n",
        "a=list(range(10))\n",
        "b=tuple(range(10))\n",
        "c=(range(10))\n",
        "print(1 in a)\n",
        "print(15 in a)\n",
        "print(1 not in b)\n",
        "print(15 in b)\n",
        "print(5 in c)"
      ],
      "metadata": {
        "colab": {
          "base_uri": "https://localhost:8080/"
        },
        "id": "Cr8RLCu9a1yH",
        "outputId": "2d0c0072-bb7b-41e9-9bca-de9ad0ddca46"
      },
      "execution_count": 57,
      "outputs": [
        {
          "output_type": "stream",
          "name": "stdout",
          "text": [
            "True\n",
            "False\n",
            "False\n",
            "False\n",
            "True\n"
          ]
        }
      ]
    },
    {
      "cell_type": "code",
      "source": [
        "s=\"Hello\"\n",
        "print(\"h\" in s)\n",
        "print(\"H\" in s)"
      ],
      "metadata": {
        "colab": {
          "base_uri": "https://localhost:8080/"
        },
        "id": "9YDNAx2pbVhl",
        "outputId": "f046a2a1-731b-4f86-9c2f-319a910412b8"
      },
      "execution_count": 58,
      "outputs": [
        {
          "output_type": "stream",
          "name": "stdout",
          "text": [
            "False\n",
            "True\n"
          ]
        }
      ]
    },
    {
      "cell_type": "markdown",
      "source": [
        "## 리스트 기본연산과 인덱싱"
      ],
      "metadata": {
        "id": "ORf-NSfOrkkW"
      }
    },
    {
      "cell_type": "code",
      "source": [
        "# 리스트 기본 연산과 인덱싱\n",
        "a =[1,2,3]\n",
        "b=a+a\n",
        "c=a*3\n",
        "d=a*(12//4) #d=a*(12/4) 는 3.0 이므로 에러\n",
        "d=a*int(12/4)\n",
        "print(a)\n",
        "print(b)\n",
        "print(c)\n",
        "print(d)"
      ],
      "metadata": {
        "colab": {
          "base_uri": "https://localhost:8080/"
        },
        "id": "ZPzpV7YQbgvw",
        "outputId": "e758159e-d2bb-450c-e295-39e5224f233a"
      },
      "execution_count": 59,
      "outputs": [
        {
          "output_type": "stream",
          "name": "stdout",
          "text": [
            "[1, 2, 3]\n",
            "[1, 2, 3, 1, 2, 3]\n",
            "[1, 2, 3, 1, 2, 3, 1, 2, 3]\n",
            "[1, 2, 3, 1, 2, 3, 1, 2, 3]\n"
          ]
        }
      ]
    },
    {
      "cell_type": "code",
      "source": [
        "# len 길이\n",
        "a=[1,2,3]\n",
        "print(len(a))\n",
        "s=\"hello\" # 문자열이 들어오면 문자의 갯수\n",
        "s2=[\"hello\"] # 리스트가 들어오면 리스트 항목의 갯수\n",
        "print(len(s))\n",
        "print(len(s2))"
      ],
      "metadata": {
        "colab": {
          "base_uri": "https://localhost:8080/"
        },
        "id": "yeiEOKDrcOkq",
        "outputId": "2a07e732-24af-4040-fd21-f415ba1326c1"
      },
      "execution_count": 60,
      "outputs": [
        {
          "output_type": "stream",
          "name": "stdout",
          "text": [
            "3\n",
            "5\n",
            "1\n"
          ]
        }
      ]
    },
    {
      "cell_type": "markdown",
      "source": [
        "## 인덱싱"
      ],
      "metadata": {
        "id": "KuIu6-o4rrTl"
      }
    },
    {
      "cell_type": "code",
      "source": [
        "# 인덱싱\n",
        "a=[1,2,3]\n",
        "print(a[0])\n",
        "print(a[-1]) # 마지막 원소\n",
        "print(a[-1],a[-2],a[-3])\n",
        "\n",
        "r=range(1,10,2)\n",
        "print(r[0],r[1],r[2])"
      ],
      "metadata": {
        "colab": {
          "base_uri": "https://localhost:8080/"
        },
        "id": "qNTbvWnDdJkS",
        "outputId": "780e4702-1ac9-4c3f-b6df-15f885511c89"
      },
      "execution_count": 61,
      "outputs": [
        {
          "output_type": "stream",
          "name": "stdout",
          "text": [
            "1\n",
            "3\n",
            "3 2 1\n",
            "1 3 5\n"
          ]
        }
      ]
    },
    {
      "cell_type": "code",
      "source": [
        "# 인덱싱으로 원소값 바꿔주기\n",
        "# 리스트만 가능하고 튜플은 불가능\n",
        "a=[1,2,3]\n",
        "a[0] = 3\n",
        "a[1] = 6\n",
        "a[2] = 9\n",
        "print(a)\n",
        "\n",
        "# a=(1,2,3)\n",
        "# a[0]=1 #immutable"
      ],
      "metadata": {
        "colab": {
          "base_uri": "https://localhost:8080/"
        },
        "id": "uSMqNl3EfA19",
        "outputId": "32ba8088-9d91-4429-ff12-d3b943e81921"
      },
      "execution_count": 62,
      "outputs": [
        {
          "output_type": "stream",
          "name": "stdout",
          "text": [
            "[3, 6, 9]\n"
          ]
        }
      ]
    },
    {
      "cell_type": "code",
      "source": [
        "a=[1,2,3]\n",
        "del a[1]\n",
        "print(a)"
      ],
      "metadata": {
        "colab": {
          "base_uri": "https://localhost:8080/"
        },
        "id": "XfRAz1pChM3e",
        "outputId": "dae4cb1e-d8d8-445d-a127-5a3ccd5e12f7"
      },
      "execution_count": 63,
      "outputs": [
        {
          "output_type": "stream",
          "name": "stdout",
          "text": [
            "[1, 3]\n"
          ]
        }
      ]
    },
    {
      "cell_type": "markdown",
      "source": [
        "## 슬라이스"
      ],
      "metadata": {
        "id": "BJs6ilb4rzKG"
      }
    },
    {
      "cell_type": "code",
      "source": [
        "# 굉장히 많이 쓰는 슬라이스\n",
        "a =[1,2,3,4,5,6,7,8,9,10]\n",
        "b=a[0:3] #0부터 3미만번째\n",
        "print(b)\n",
        "\n",
        "print(a[1:3]) #1부터 3미만\n",
        "print(a[3:-1]) #마지막원소 -1 미만까지\n",
        "print(a[1:7:2]) #1부터 7미만 2간격\n",
        "print(a[:5]) # 0(디폴트)~ 5미만 첫번째 비우면 처음것부터\n",
        "print(a[5:]) # 두번째 자리 비우면 마지막(포함)까지\n",
        "print(a[:]) # 처음부터 끝까지\n",
        "print(a[:7:2]) # 처음부터 7미만까지 2간격\n",
        "print(a[7::2]) # 7부터 끝까지 2간격\n",
        "print(a[::2])# 처음부터 끝까지 2간격\n",
        "print(a[::]) # 처음부터 끝까지 1간격 a(:)과 동일\n",
        "b=[[1,2],[3,4]] # 리스트 안의 리스트도 적용됨\n",
        "print(b[::])\n",
        "print(b[:])"
      ],
      "metadata": {
        "colab": {
          "base_uri": "https://localhost:8080/"
        },
        "id": "Y4ojkhLEhaaf",
        "outputId": "471b1a8b-2a5f-40af-b650-a443398c6193"
      },
      "execution_count": 64,
      "outputs": [
        {
          "output_type": "stream",
          "name": "stdout",
          "text": [
            "[1, 2, 3]\n",
            "[2, 3]\n",
            "[4, 5, 6, 7, 8, 9]\n",
            "[2, 4, 6]\n",
            "[1, 2, 3, 4, 5]\n",
            "[6, 7, 8, 9, 10]\n",
            "[1, 2, 3, 4, 5, 6, 7, 8, 9, 10]\n",
            "[1, 3, 5, 7]\n",
            "[8, 10]\n",
            "[1, 3, 5, 7, 9]\n",
            "[1, 2, 3, 4, 5, 6, 7, 8, 9, 10]\n",
            "[[1, 2], [3, 4]]\n",
            "[[1, 2], [3, 4]]\n"
          ]
        }
      ]
    },
    {
      "cell_type": "code",
      "source": [
        "a=[1,2,3,4,5]\n",
        "del a[1:3]\n",
        "print(a)"
      ],
      "metadata": {
        "colab": {
          "base_uri": "https://localhost:8080/"
        },
        "id": "nvFA36Krhqlg",
        "outputId": "d2dd84fd-2fb2-4983-e8ed-104f0078aa62"
      },
      "execution_count": 65,
      "outputs": [
        {
          "output_type": "stream",
          "name": "stdout",
          "text": [
            "[1, 4, 5]\n"
          ]
        }
      ]
    },
    {
      "cell_type": "markdown",
      "source": [
        "## 딕셔너리"
      ],
      "metadata": {
        "id": "vIjvJ70ur2Ud"
      }
    },
    {
      "cell_type": "code",
      "source": [
        "# 딕셔너리\n",
        "dic1 ={\"a\":1,\"b\":2,\"c\":3} # 중괄호로 표현, 콜론: 이 들어감\n",
        "# 키와 값의 쌍 (키:값)으로 표현, (숫자,문자 모두 가능)\n",
        "# 키: 수정못함, 튜플 가능, 리스트 불가능\n",
        "# 값: 튜플, 리스트 가능\n",
        "print(dic1)\n",
        "print(dic1[\"a\"]) # 키를 통한 인덱싱을 통해 값을 확인\n",
        "print(dic1[\"b\"])\n",
        "print(dic1[\"c\"])\n",
        "\n",
        "print(len(dic1)) # 딕셔너리 길이: 키를 기준으로 세거나, 쌍으로 세거나.\n",
        "print(dic1.keys()) # 키만 확인\n",
        "print(dic1.values()) # 값(valu)만 확인\n",
        "print(dic1.items()) # 쌍을 확인"
      ],
      "metadata": {
        "colab": {
          "base_uri": "https://localhost:8080/"
        },
        "id": "ndGVeCdfm_Gj",
        "outputId": "5cc86ab0-ad83-4ed0-c8c9-6b638d8c9f89"
      },
      "execution_count": 66,
      "outputs": [
        {
          "output_type": "stream",
          "name": "stdout",
          "text": [
            "{'a': 1, 'b': 2, 'c': 3}\n",
            "1\n",
            "2\n",
            "3\n",
            "3\n",
            "dict_keys(['a', 'b', 'c'])\n",
            "dict_values([1, 2, 3])\n",
            "dict_items([('a', 1), ('b', 2), ('c', 3)])\n"
          ]
        }
      ]
    },
    {
      "cell_type": "markdown",
      "source": [
        "## 지퍼를 이용해 딕셔너리로 바꾸기"
      ],
      "metadata": {
        "id": "VTfpr_Q-r6nj"
      }
    },
    {
      "cell_type": "code",
      "source": [
        "#지퍼를 이용해 키와 값을 따로 리스트로 나열해서 딕셔너리로 바꿀 수 있음\n",
        "print(list(zip([\"a\",\"b\",\"c\"],[1,2,3])))\n",
        "# 잘 모르겠을 때 리스트로 바꿔보면 튜플로 묶여있음\n",
        "a = zip([\"a\",\"b\",\"c\"],[1,2,3])\n",
        "print(dict(a))\n",
        "# 튜플로 묶여있는 a를 딕셔너리로 바꿈."
      ],
      "metadata": {
        "colab": {
          "base_uri": "https://localhost:8080/"
        },
        "id": "pePTLs4FoMHq",
        "outputId": "7e0efdbd-6ea6-4797-d8f5-f4db8d270ec1"
      },
      "execution_count": 67,
      "outputs": [
        {
          "output_type": "stream",
          "name": "stdout",
          "text": [
            "[('a', 1), ('b', 2), ('c', 3)]\n",
            "{'a': 1, 'b': 2, 'c': 3}\n"
          ]
        }
      ]
    },
    {
      "cell_type": "code",
      "source": [
        "dic2 = {'a': 1, 'b': 2, 'c': 3, 'd':4}\n",
        "dic2['a']=100; dic2['b']=200; dic2['c']=300; dic2['d']=400;\n",
        "print(dic2)\n",
        "dic2['e'] ='새로운 키와 밸류'\n",
        "print(dic2)\n",
        "print(\"a\" in dic2)\n",
        "print(100 in dic2) # 키를 기준으로 찾으므로 False"
      ],
      "metadata": {
        "colab": {
          "base_uri": "https://localhost:8080/"
        },
        "id": "TrMXa04Lp8Fq",
        "outputId": "113a419e-e9a2-4d53-c3d4-ac8203a880bd"
      },
      "execution_count": 68,
      "outputs": [
        {
          "output_type": "stream",
          "name": "stdout",
          "text": [
            "{'a': 100, 'b': 200, 'c': 300, 'd': 400}\n",
            "{'a': 100, 'b': 200, 'c': 300, 'd': 400, 'e': '새로운 키와 밸류'}\n",
            "True\n",
            "False\n"
          ]
        }
      ]
    },
    {
      "cell_type": "markdown",
      "source": [
        "## 조건문"
      ],
      "metadata": {
        "id": "Q8DgglObr_rT"
      }
    },
    {
      "cell_type": "code",
      "source": [
        "#조건문\n",
        "a=5\n",
        "print(a>3)\n",
        "print(a<3)\n",
        "print(a==5)\n",
        "\n",
        "# 들여쓰기 tab\n",
        "# 들여쓰기 되돌리기 shift+tab\n",
        "\n",
        "print(bool(0))\n",
        "print(bool(\"hello\"))\n",
        "print(bool(\"\"))\n"
      ],
      "metadata": {
        "colab": {
          "base_uri": "https://localhost:8080/"
        },
        "collapsed": true,
        "id": "nQKf-ZX7tDR1",
        "outputId": "f8a73d7e-733d-40b4-9300-68b36fa9b37a"
      },
      "execution_count": 69,
      "outputs": [
        {
          "output_type": "stream",
          "name": "stdout",
          "text": [
            "True\n",
            "False\n",
            "True\n",
            "False\n",
            "True\n",
            "False\n"
          ]
        }
      ]
    },
    {
      "cell_type": "markdown",
      "source": [
        "## 반복문"
      ],
      "metadata": {
        "id": "7ktI_PlJsBZ5"
      }
    },
    {
      "cell_type": "code",
      "source": [
        "# 반복문\n",
        "\n",
        "for i in range(10,0,-1):\n",
        "    print(i)\n",
        "\n",
        "for i in reversed(range(10)):\n",
        "    print(i)\n",
        "\n",
        "# 모르겠을 때 리스트로 바꿔서 보기\n",
        "list(reversed(range(10)))\n",
        "\n",
        "# 리스트에 대해서 반복문 실행도 가능\n",
        "a=[10,20,30,40,50]\n",
        "for i in a:\n",
        "    print(i)\n",
        "\n",
        "# 보통 이런식으로 해서 쓰는데 이건 파이썬스럽지 않음\n",
        "for i in range(len(a)):\n",
        "    print(a[i])\n"
      ],
      "metadata": {
        "colab": {
          "base_uri": "https://localhost:8080/"
        },
        "collapsed": true,
        "id": "P7SLTiVFVUZo",
        "outputId": "bf90cde4-4b56-46e6-dd1c-352975f3c4f9"
      },
      "execution_count": 70,
      "outputs": [
        {
          "output_type": "stream",
          "name": "stdout",
          "text": [
            "10\n",
            "9\n",
            "8\n",
            "7\n",
            "6\n",
            "5\n",
            "4\n",
            "3\n",
            "2\n",
            "1\n",
            "9\n",
            "8\n",
            "7\n",
            "6\n",
            "5\n",
            "4\n",
            "3\n",
            "2\n",
            "1\n",
            "0\n",
            "10\n",
            "20\n",
            "30\n",
            "40\n",
            "50\n",
            "10\n",
            "20\n",
            "30\n",
            "40\n",
            "50\n"
          ]
        }
      ]
    },
    {
      "cell_type": "code",
      "source": [
        "# 문자 리스트에 대해서도 실행 가능\n",
        "a=[\"apple\",\"banana\",\"carrot\",\"berries\",\"melon\"]\n",
        "for i in a:\n",
        "    print(i)\n",
        "\n",
        "b=\"hello\"\n",
        "for i in b:\n",
        "    print(i)\n",
        "\n",
        "b=\"hello\"\n",
        "for i in b:\n",
        "    print(i,end=\"\")"
      ],
      "metadata": {
        "colab": {
          "base_uri": "https://localhost:8080/"
        },
        "id": "xHtQnMjmXTlf",
        "outputId": "7013e17a-853e-4cd7-97cc-5b5b2e181aaa"
      },
      "execution_count": 71,
      "outputs": [
        {
          "output_type": "stream",
          "name": "stdout",
          "text": [
            "apple\n",
            "banana\n",
            "carrot\n",
            "berries\n",
            "melon\n",
            "h\n",
            "e\n",
            "l\n",
            "l\n",
            "o\n",
            "hello"
          ]
        }
      ]
    },
    {
      "cell_type": "markdown",
      "source": [
        "## 이중for문"
      ],
      "metadata": {
        "id": "vfFcY8gesFqB"
      }
    },
    {
      "cell_type": "code",
      "source": [
        "#이중 for문\n",
        "for i in range(3):\n",
        "    for j in range(3):\n",
        "        print(i,j)"
      ],
      "metadata": {
        "colab": {
          "base_uri": "https://localhost:8080/"
        },
        "id": "Er5-AhaFXsLs",
        "outputId": "4afdfd6e-bc6d-47f1-8af3-e6c566cf9167"
      },
      "execution_count": 72,
      "outputs": [
        {
          "output_type": "stream",
          "name": "stdout",
          "text": [
            "0 0\n",
            "0 1\n",
            "0 2\n",
            "1 0\n",
            "1 1\n",
            "1 2\n",
            "2 0\n",
            "2 1\n",
            "2 2\n"
          ]
        }
      ]
    },
    {
      "cell_type": "markdown",
      "source": [
        "## while 문"
      ],
      "metadata": {
        "id": "67ELjEWvsIVJ"
      }
    },
    {
      "cell_type": "code",
      "source": [
        "i=0\n",
        "while i<5:\n",
        "    print(i)\n",
        "    i +=1\n",
        "print(\"i=\",i)\n",
        "\n"
      ],
      "metadata": {
        "colab": {
          "base_uri": "https://localhost:8080/"
        },
        "id": "bz_7YowBa2l2",
        "outputId": "85d9d079-ec9b-4eb5-abfe-6ce5ce9d7b96"
      },
      "execution_count": 73,
      "outputs": [
        {
          "output_type": "stream",
          "name": "stdout",
          "text": [
            "0\n",
            "1\n",
            "2\n",
            "3\n",
            "4\n",
            "i= 5\n"
          ]
        }
      ]
    },
    {
      "cell_type": "code",
      "source": [
        "i=0\n",
        "while True:\n",
        "    print(i)\n",
        "    i += 1\n",
        "    if i==5: # 무한루프 벗어나기 위한 조건\n",
        "        break"
      ],
      "metadata": {
        "colab": {
          "base_uri": "https://localhost:8080/"
        },
        "id": "ph9XNNPncA6l",
        "outputId": "b6fc74f0-eca4-4937-f09d-ec32403ee111"
      },
      "execution_count": 74,
      "outputs": [
        {
          "output_type": "stream",
          "name": "stdout",
          "text": [
            "0\n",
            "1\n",
            "2\n",
            "3\n",
            "4\n"
          ]
        }
      ]
    },
    {
      "cell_type": "markdown",
      "source": [
        "break 사용 (디버깅용)"
      ],
      "metadata": {
        "id": "mabpaPmlsM1J"
      }
    },
    {
      "cell_type": "code",
      "source": [
        "EPOCH= 10 # 딥러닝 용어\n",
        "# epoch is one complete pass through the entire training dataset\n",
        "# by the neural network\n",
        "for i in range(EPOCH):\n",
        "    print(i)\n",
        "    break # 디버깅용: 한번만 실행\n",
        "\n",
        "#  next(iter())"
      ],
      "metadata": {
        "colab": {
          "base_uri": "https://localhost:8080/"
        },
        "id": "-bIijmpffw3p",
        "outputId": "878d583e-d912-469f-f5a6-193e652cdeda"
      },
      "execution_count": 75,
      "outputs": [
        {
          "output_type": "stream",
          "name": "stdout",
          "text": [
            "0\n"
          ]
        }
      ]
    },
    {
      "cell_type": "markdown",
      "source": [
        "continue 로 건너뛰기"
      ],
      "metadata": {
        "id": "4dlJn0EWsRqf"
      }
    },
    {
      "cell_type": "code",
      "source": [
        "for i in range(10):\n",
        "    if i%2==0:\n",
        "        continue # 건너뛰기\n",
        "        # continue 만나면 그 밑으로는 실행하지 않고,하던 반복 마저 실행\n",
        "        # 따라서 여기서는 짝수일 때는 print(i)실행없이 반복문 돌아감\n",
        "    print(i)\n"
      ],
      "metadata": {
        "colab": {
          "base_uri": "https://localhost:8080/"
        },
        "id": "B_xgRs8HhYc9",
        "outputId": "a22cb51a-f037-43b9-bd85-3dfff88d7dd4"
      },
      "execution_count": 77,
      "outputs": [
        {
          "output_type": "stream",
          "name": "stdout",
          "text": [
            "1\n",
            "3\n",
            "5\n",
            "7\n",
            "9\n"
          ]
        }
      ]
    },
    {
      "cell_type": "code",
      "source": [
        "a=0\n",
        "while a<10:\n",
        "    a +=1\n",
        "    if a%2==0:\n",
        "        continue\n",
        "    print(a)"
      ],
      "metadata": {
        "colab": {
          "base_uri": "https://localhost:8080/"
        },
        "id": "KJ4LrNxtif41",
        "outputId": "7189c9ff-332d-41eb-b91e-5e7dba1cc969"
      },
      "execution_count": 79,
      "outputs": [
        {
          "output_type": "stream",
          "name": "stdout",
          "text": [
            "1\n",
            "3\n",
            "5\n",
            "7\n",
            "9\n"
          ]
        }
      ]
    },
    {
      "cell_type": "code",
      "source": [
        "# 인덱스가 0부터 시작해서 순서가 1부터 매칭이 안되서 i+1 해줌.\n",
        "a=[1,2,3,4,5]\n",
        "for i in range(len(a)):\n",
        "    print(i+1,\"번째에\",a[i],\"가 들어있어요\")\n",
        "\n",
        "\n",
        "j=1\n",
        "for i in a:\n",
        "    print(j,\"번째에\",i,\"가 들어있어요\")\n",
        "    j += 1\n",
        "\n",
        "# 1부터 인덱싱을 위한 j=1 설정하는 방법\n",
        "\n",
        "# 파이썬에서는 이를 보완하기 위한 enumerate 이 있음"
      ],
      "metadata": {
        "colab": {
          "base_uri": "https://localhost:8080/"
        },
        "id": "4Zw_BApzkJfX",
        "outputId": "94e27aab-3b39-45e7-afdc-778232759289"
      },
      "execution_count": 87,
      "outputs": [
        {
          "output_type": "stream",
          "name": "stdout",
          "text": [
            "1 번째에 1 가 들어있어요\n",
            "2 번째에 2 가 들어있어요\n",
            "3 번째에 3 가 들어있어요\n",
            "4 번째에 4 가 들어있어요\n",
            "5 번째에 5 가 들어있어요\n",
            "1 번째에 1 가 들어있어요\n",
            "2 번째에 2 가 들어있어요\n",
            "3 번째에 3 가 들어있어요\n",
            "4 번째에 4 가 들어있어요\n",
            "5 번째에 5 가 들어있어요\n"
          ]
        }
      ]
    },
    {
      "cell_type": "markdown",
      "source": [
        "## Enumerate 인덱스와 값을 쌍으로 받고, 인덱스 시작을 1로 지정가능"
      ],
      "metadata": {
        "id": "xhaBK9npsYsO"
      }
    },
    {
      "cell_type": "code",
      "source": [
        "# enumerate 은 쌍으로 받음\n",
        "a=[1,2,3,4,5]\n",
        "for i,val in enumerate(a):\n",
        "    print(i,\"번째\",val,\"이 들어있어요\")"
      ],
      "metadata": {
        "colab": {
          "base_uri": "https://localhost:8080/"
        },
        "id": "uuV_jN92m3z3",
        "outputId": "2f363453-28f4-476f-daab-76b956913361"
      },
      "execution_count": 89,
      "outputs": [
        {
          "output_type": "stream",
          "name": "stdout",
          "text": [
            "0 번째 1 이 들어있어요\n",
            "1 번째 2 이 들어있어요\n",
            "2 번째 3 이 들어있어요\n",
            "3 번째 4 이 들어있어요\n",
            "4 번째 5 이 들어있어요\n"
          ]
        }
      ]
    },
    {
      "cell_type": "code",
      "source": [
        "# enumerate 은 인덱스와 값을 쌍으로 줌\n",
        "# 인덱스 시작을 1로 지정해줄수도 있음\n",
        "a=[1,2,3,4,5]\n",
        "for i,val in enumerate(a,start=1):\n",
        "    print(i,\"번째\",val,\"이 들어있어요\")"
      ],
      "metadata": {
        "colab": {
          "base_uri": "https://localhost:8080/"
        },
        "id": "N5uB7nTjnX7Y",
        "outputId": "2a0f6d19-9375-4136-beb0-23f3e2dd4280"
      },
      "execution_count": 90,
      "outputs": [
        {
          "output_type": "stream",
          "name": "stdout",
          "text": [
            "1 번째 1 이 들어있어요\n",
            "2 번째 2 이 들어있어요\n",
            "3 번째 3 이 들어있어요\n",
            "4 번째 4 이 들어있어요\n",
            "5 번째 5 이 들어있어요\n"
          ]
        }
      ]
    },
    {
      "cell_type": "markdown",
      "source": [
        "## 별찍기 반복문 과제"
      ],
      "metadata": {
        "id": "pyNu_pooshiX"
      }
    },
    {
      "cell_type": "code",
      "source": [
        "# 별찍기\n",
        "#1 내코드\n",
        "for i in range(5):\n",
        "    print(\"*\"*i)\n",
        "\n",
        "#2\n",
        "a =\"\"\n",
        "for i in range(4):\n",
        "    a += \"*\"\n",
        "    print(a)\n",
        "\n",
        "#3\n",
        "for i in range(5):\n",
        "    for j in range(i):\n",
        "        print(\"*\",end=\"\")\n",
        "    print()\n",
        "#4\n",
        "i=1\n",
        "while i<5:\n",
        "    print(\"*\"*i)\n",
        "    i+=1\n",
        "\n",
        "#5\n",
        "i=\"*\"\n",
        "while True:\n",
        "    print(i)\n",
        "    i +=\"*\"\n",
        "    if i == '*****':\n",
        "        break;\n",
        "\n",
        "#6\n",
        "i=\"*\"\n",
        "while i !=\"*****\":\n",
        "    print(i)\n",
        "    i += '*'"
      ],
      "metadata": {
        "colab": {
          "base_uri": "https://localhost:8080/"
        },
        "collapsed": true,
        "id": "moe3hBzJnzkz",
        "outputId": "ed30283f-52f5-46af-c002-11dd09960fdd"
      },
      "execution_count": 101,
      "outputs": [
        {
          "output_type": "stream",
          "name": "stdout",
          "text": [
            "\n",
            "*\n",
            "**\n",
            "***\n",
            "****\n",
            "*\n",
            "**\n",
            "***\n",
            "****\n",
            "\n",
            "*\n",
            "**\n",
            "***\n",
            "****\n",
            "*\n",
            "**\n",
            "***\n",
            "****\n",
            "*\n",
            "**\n",
            "***\n",
            "****\n",
            "*\n",
            "**\n",
            "***\n",
            "****\n"
          ]
        }
      ]
    },
    {
      "cell_type": "markdown",
      "source": [
        "## 리스트 심화"
      ],
      "metadata": {
        "id": "iglELbX_spC5"
      }
    },
    {
      "cell_type": "code",
      "source": [
        "# 리스트 심화\n",
        "# 두개의 원소를 넣어주고 싶을 때 한개씩 밖에 안되서\n",
        "# 리스트로 묶어서 넣으면 그야말로, 하나의 원소로 묶여서 들어감\n",
        "a =[1,2,3]\n",
        "a.append([4,5])\n",
        "print(a,'len(a)',len(a))"
      ],
      "metadata": {
        "colab": {
          "base_uri": "https://localhost:8080/"
        },
        "id": "-J-46EifoMLP",
        "outputId": "86fcd269-62f4-40b1-b968-77d928189c37"
      },
      "execution_count": 102,
      "outputs": [
        {
          "output_type": "stream",
          "name": "stdout",
          "text": [
            "[1, 2, 3, [4, 5]] len(a) 4\n"
          ]
        }
      ]
    },
    {
      "cell_type": "code",
      "source": [
        "# extend() 쓰면, 개별 원소로 넣어주기 가능\n",
        "a =[1,2,3]\n",
        "a.extend([4,5])\n",
        "print(a,'len(a)',len(a))"
      ],
      "metadata": {
        "colab": {
          "base_uri": "https://localhost:8080/"
        },
        "id": "TPOotrv6tdER",
        "outputId": "348be2e3-5783-4941-9a96-0926b70ee322"
      },
      "execution_count": 104,
      "outputs": [
        {
          "output_type": "stream",
          "name": "stdout",
          "text": [
            "[1, 2, 3, 4, 5] len(a) 5\n"
          ]
        }
      ]
    },
    {
      "cell_type": "code",
      "source": [
        "# 더 간단하게 += 리스트로 넣어주면 됨\n",
        "a =[1,2,3]\n",
        "a += [4,5]\n",
        "print(a,'len(a)',len(a))"
      ],
      "metadata": {
        "colab": {
          "base_uri": "https://localhost:8080/"
        },
        "id": "UWorD31lt8rE",
        "outputId": "3d5f4ad7-03f9-4908-fd92-0bde1e98ffce"
      },
      "execution_count": 105,
      "outputs": [
        {
          "output_type": "stream",
          "name": "stdout",
          "text": [
            "[1, 2, 3, 4, 5] len(a) 5\n"
          ]
        }
      ]
    },
    {
      "cell_type": "code",
      "source": [
        " #insert 중간에 넣고 싶을 때\n",
        "a =[1,2,3]\n",
        "a.insert(1,100)\n",
        "print(a,'len(a)',len(a))"
      ],
      "metadata": {
        "colab": {
          "base_uri": "https://localhost:8080/"
        },
        "id": "ewdWDx2LuQVi",
        "outputId": "23a812cb-2223-47f8-b1f1-ae12eff48733"
      },
      "execution_count": 107,
      "outputs": [
        {
          "output_type": "stream",
          "name": "stdout",
          "text": [
            "[1, 100, 2, 3] len(a) 4\n"
          ]
        }
      ]
    },
    {
      "cell_type": "code",
      "source": [
        "a =[1,2,3]\n",
        "a.insert(1,[100,200])\n",
        "print(a,'len(a)',len(a))"
      ],
      "metadata": {
        "colab": {
          "base_uri": "https://localhost:8080/"
        },
        "id": "OH5K2bRguzZ5",
        "outputId": "c160db96-1fbd-453f-bef9-428fbbc4a9d7"
      },
      "execution_count": 108,
      "outputs": [
        {
          "output_type": "stream",
          "name": "stdout",
          "text": [
            "[1, [100, 200], 2, 3] len(a) 4\n"
          ]
        }
      ]
    },
    {
      "cell_type": "code",
      "source": [
        " #insert() 사용하지 않고 insert하기\n",
        " a=[1,2,3]\n",
        " b=[100,200]\n",
        "#  a[1:2]=b # 1의 자리에 값을 무시하고 b가 삽입\n",
        " a[1:1]=b # 이 성질 이용해 1의 자리에 값 살리고 삽입(꼼수)\n",
        " print(a)"
      ],
      "metadata": {
        "colab": {
          "base_uri": "https://localhost:8080/"
        },
        "id": "5frhQt6Wu6Pg",
        "outputId": "baba33b6-534d-4704-d30c-e7a19ad33c26"
      },
      "execution_count": 114,
      "outputs": [
        {
          "output_type": "stream",
          "name": "stdout",
          "text": [
            "[1, 100, 200, 2, 3]\n"
          ]
        }
      ]
    },
    {
      "cell_type": "code",
      "source": [
        "# pop\n",
        "# 스택처럼 맨 오른쪽 부터 하나씩 out\n",
        "a=[1,2,3]\n",
        "a.pop()\n",
        "print(a)\n",
        "a.pop()\n",
        "print(a)"
      ],
      "metadata": {
        "colab": {
          "base_uri": "https://localhost:8080/"
        },
        "id": "SiYBbWW0yfYU",
        "outputId": "46fd52fb-1a19-4b4c-facb-41e3518253ad"
      },
      "execution_count": 117,
      "outputs": [
        {
          "output_type": "stream",
          "name": "stdout",
          "text": [
            "[1, 2]\n",
            "[1]\n"
          ]
        }
      ]
    },
    {
      "cell_type": "code",
      "source": [
        "# pop\n",
        "# 특정 인덱스 pop\n",
        "a=[1,2,3]\n",
        "a.pop(1)\n",
        "print(a)"
      ],
      "metadata": {
        "colab": {
          "base_uri": "https://localhost:8080/"
        },
        "id": "EgjvMa1t0DpV",
        "outputId": "0217e0bb-5e9e-4638-e1a4-702035d89b80"
      },
      "execution_count": 118,
      "outputs": [
        {
          "output_type": "stream",
          "name": "stdout",
          "text": [
            "[1, 3]\n"
          ]
        }
      ]
    },
    {
      "cell_type": "code",
      "source": [
        "#remove 는 인덱스가 아닌 인수값을 찾아서 제거.\n",
        "# 중복인 경우 왼쪽부터 제거\n",
        "a=[1,2,3,4,3,5,3]\n",
        "a.remove(3)\n",
        "print(a)\n",
        "a.remove(3)\n",
        "print(a)\n",
        "a.remove(3)\n",
        "print(a)\n"
      ],
      "metadata": {
        "colab": {
          "base_uri": "https://localhost:8080/"
        },
        "id": "8gJ_ctql0pOr",
        "outputId": "d600c9ac-31b8-4551-fc56-7698023a82de"
      },
      "execution_count": 123,
      "outputs": [
        {
          "output_type": "stream",
          "name": "stdout",
          "text": [
            "[1, 2, 4, 3, 5, 3]\n",
            "[1, 2, 4, 5, 3]\n",
            "[1, 2, 4, 5]\n"
          ]
        }
      ]
    },
    {
      "cell_type": "code",
      "source": [
        "# 특정값이 위치한 처음 인덱스 찾기 index()\n",
        "a=[1,2,3,4,3,5,3]\n",
        "a.index(3)"
      ],
      "metadata": {
        "colab": {
          "base_uri": "https://localhost:8080/"
        },
        "id": "WPebCgwr1Td4",
        "outputId": "31bd639f-8957-4a9d-bf55-9b90f4ab2835"
      },
      "execution_count": 125,
      "outputs": [
        {
          "output_type": "execute_result",
          "data": {
            "text/plain": [
              "2"
            ]
          },
          "metadata": {},
          "execution_count": 125
        }
      ]
    },
    {
      "cell_type": "code",
      "source": [
        "# 특정 값의 갯수 세기 count()\n",
        "a=[1,2,3,4,3,5,3]\n",
        "a.count(3)"
      ],
      "metadata": {
        "colab": {
          "base_uri": "https://localhost:8080/"
        },
        "id": "1eiMSOTE1jZ5",
        "outputId": "ff29551a-8710-4468-dbba-9e692d3bcdc1"
      },
      "execution_count": 127,
      "outputs": [
        {
          "output_type": "execute_result",
          "data": {
            "text/plain": [
              "3"
            ]
          },
          "metadata": {},
          "execution_count": 127
        }
      ]
    },
    {
      "cell_type": "code",
      "source": [
        "# 원소 순서 뒤집기 reverse()\n",
        "a=[1,2,3,4,5]\n",
        "a.reverse()\n",
        "print(a)"
      ],
      "metadata": {
        "colab": {
          "base_uri": "https://localhost:8080/"
        },
        "id": "AUS_9p1A11dm",
        "outputId": "bfab39df-9c3f-4343-e445-08fbcb1d9167"
      },
      "execution_count": 128,
      "outputs": [
        {
          "output_type": "stream",
          "name": "stdout",
          "text": [
            "[5, 4, 3, 2, 1]\n"
          ]
        }
      ]
    },
    {
      "cell_type": "code",
      "source": [
        "# 정렬 sort\n",
        "# 오름차순\n",
        "a=[1,5,1,2,6,1,7]\n",
        "a.sort()\n",
        "print(a)\n",
        "\n",
        "# 내림차순\n",
        "a.sort(reverse=True)\n",
        "print(a)"
      ],
      "metadata": {
        "colab": {
          "base_uri": "https://localhost:8080/"
        },
        "id": "jwmX_BgA2P5n",
        "outputId": "437082d3-1183-47c2-f592-422d179c831a"
      },
      "execution_count": 130,
      "outputs": [
        {
          "output_type": "stream",
          "name": "stdout",
          "text": [
            "[1, 1, 1, 2, 5, 6, 7]\n",
            "[7, 6, 5, 2, 1, 1, 1]\n"
          ]
        }
      ]
    },
    {
      "cell_type": "code",
      "source": [
        "# 리스트 내용 모두 제거하기\n",
        "# del은 정의 자체를 지움\n",
        "a=[1,2,3]\n",
        "a.clear()\n",
        "print(a)"
      ],
      "metadata": {
        "colab": {
          "base_uri": "https://localhost:8080/"
        },
        "id": "EhTXGP1l2hmD",
        "outputId": "1b28d451-e952-461d-f8ce-a7bbc277cff0"
      },
      "execution_count": 131,
      "outputs": [
        {
          "output_type": "stream",
          "name": "stdout",
          "text": [
            "[]\n"
          ]
        }
      ]
    },
    {
      "cell_type": "code",
      "source": [
        "# b[1]값만 바꾸고 싶은데 b=a 로 인해 a[1]도 바뀜\n",
        "a=[1,2,3]\n",
        "b=a\n",
        "b[1]=10\n",
        "print(\"a=\",a,\"b=\",b)\n",
        "# b가 a 주소값 같이 씀 동일함\n",
        "a is b"
      ],
      "metadata": {
        "colab": {
          "base_uri": "https://localhost:8080/"
        },
        "id": "zrVyH4xD25pQ",
        "outputId": "60f7ead3-9d4d-4db9-961d-d77ab78ca254"
      },
      "execution_count": 138,
      "outputs": [
        {
          "output_type": "stream",
          "name": "stdout",
          "text": [
            "a= [1, 10, 3] b= [1, 10, 3]\n"
          ]
        },
        {
          "output_type": "execute_result",
          "data": {
            "text/plain": [
              "True"
            ]
          },
          "metadata": {},
          "execution_count": 138
        }
      ]
    },
    {
      "cell_type": "code",
      "source": [
        "# copy()를 이용해 정의해야 b만 바뀜\n",
        "a=[1,2,3]\n",
        "b=a.copy()\n",
        "b[1]=10\n",
        "print(\"a=\",a,\"b=\",b)\n",
        "# b가 a의 값만 복사하고 주소 다름\n",
        "a is b"
      ],
      "metadata": {
        "colab": {
          "base_uri": "https://localhost:8080/"
        },
        "id": "q2CfepCk3jhg",
        "outputId": "3bc9d942-8dbf-44cf-c3b0-140d39a0f7b2"
      },
      "execution_count": 139,
      "outputs": [
        {
          "output_type": "stream",
          "name": "stdout",
          "text": [
            "a= [1, 2, 3] b= [1, 10, 3]\n"
          ]
        },
        {
          "output_type": "execute_result",
          "data": {
            "text/plain": [
              "False"
            ]
          },
          "metadata": {},
          "execution_count": 139
        }
      ]
    },
    {
      "cell_type": "code",
      "source": [
        "a=[1,2,3]\n",
        "print(min(a))\n",
        "print(max(a))\n",
        "print(sum(a))\n",
        "print(round(1.53423423,3))# 소수점 셋째자리까지 반올림"
      ],
      "metadata": {
        "colab": {
          "base_uri": "https://localhost:8080/"
        },
        "id": "59kA7pcJ406Y",
        "outputId": "60b12dad-418a-459c-c8b3-0b150b9fabcf"
      },
      "execution_count": 141,
      "outputs": [
        {
          "output_type": "stream",
          "name": "stdout",
          "text": [
            "1\n",
            "3\n",
            "6\n",
            "1.534\n"
          ]
        }
      ]
    },
    {
      "cell_type": "markdown",
      "source": [
        "## 리스트 표현식: 코드 깔끔해짐"
      ],
      "metadata": {
        "id": "EWlsT9R15Q82"
      }
    },
    {
      "cell_type": "code",
      "source": [
        "#range(5) 안의 값들을 i라는 이름으로 불러오고\n",
        "# i 값으로 리스트를 만들어줌\n",
        "a=[i for i in range(5)]\n",
        "print(a)\n",
        "\n",
        "# 아래 코드를 보면 계산된 i+5 값들이 쌓이는 걸 알 수 있음\n",
        "a=[i+5 for i in range(5)]\n",
        "print(a)\n",
        "\n",
        "# 리스트는 쌓는것이므로 각각의 원소에 연산을 원하면 리스트 표현식 사용하면됨\n",
        "[1,2,3,4,5]+[5]"
      ],
      "metadata": {
        "colab": {
          "base_uri": "https://localhost:8080/"
        },
        "id": "c-no9t-P5Lq8",
        "outputId": "3757844d-ba52-44c1-94ad-0089f250f0a1"
      },
      "execution_count": 144,
      "outputs": [
        {
          "output_type": "stream",
          "name": "stdout",
          "text": [
            "[0, 1, 2, 3, 4]\n",
            "[5, 6, 7, 8, 9]\n"
          ]
        },
        {
          "output_type": "execute_result",
          "data": {
            "text/plain": [
              "[1, 2, 3, 4, 5, 5]"
            ]
          },
          "metadata": {},
          "execution_count": 144
        }
      ]
    },
    {
      "cell_type": "code",
      "source": [
        "# 리스트 표현식 이중for문도 가능함\n",
        "a = [i-j for i in range(1,5)\n",
        "            for j in range(1,5)]\n",
        "print(a)"
      ],
      "metadata": {
        "colab": {
          "base_uri": "https://localhost:8080/"
        },
        "id": "NFw14pzi5D-W",
        "outputId": "3668844f-e928-4e9f-97fa-bdb44ef7cf34"
      },
      "execution_count": 148,
      "outputs": [
        {
          "output_type": "stream",
          "name": "stdout",
          "text": [
            "[0, -1, -2, -3, 1, 0, -1, -2, 2, 1, 0, -1, 3, 2, 1, 0]\n"
          ]
        }
      ]
    },
    {
      "cell_type": "code",
      "source": [
        "# 위의 이중반복문 표현식이 기본 for문으로 표현하면 아래와 같음\n",
        "a=[]\n",
        "for i in range(1,5):\n",
        "    for j in range(1,5):\n",
        "        a += [i-j]\n",
        "print(a)"
      ],
      "metadata": {
        "colab": {
          "base_uri": "https://localhost:8080/"
        },
        "id": "mZRhb-Fe7Re9",
        "outputId": "c27b9caf-c16a-432d-c349-f140311c7738"
      },
      "execution_count": 149,
      "outputs": [
        {
          "output_type": "stream",
          "name": "stdout",
          "text": [
            "[0, -1, -2, -3, 1, 0, -1, -2, 2, 1, 0, -1, 3, 2, 1, 0]\n"
          ]
        }
      ]
    },
    {
      "cell_type": "code",
      "source": [
        "# 표현식에 for, if문 같이 쓰기\n",
        "# 짝수일 경우만 출력\n",
        "a=[i for i in range(10) if i%2==0]\n",
        "print(a)"
      ],
      "metadata": {
        "colab": {
          "base_uri": "https://localhost:8080/"
        },
        "id": "xHdrW0O18W_t",
        "outputId": "9da36511-b57b-472f-ac9a-2ac89c7a6f27"
      },
      "execution_count": 151,
      "outputs": [
        {
          "output_type": "stream",
          "name": "stdout",
          "text": [
            "[0, 2, 4, 6, 8]\n"
          ]
        }
      ]
    },
    {
      "cell_type": "code",
      "source": [
        "# 아래 4줄의 코드를 위의 표현식 한줄로 간단히 표현함\n",
        "a=[i]\n",
        "for i in range(10):\n",
        "    if i%2 ==0\n",
        "     a += [i]\n",
        "print(a)"
      ],
      "metadata": {
        "id": "aXSr794e9-T5"
      },
      "execution_count": null,
      "outputs": []
    },
    {
      "cell_type": "markdown",
      "source": [
        "##리스트 속에 리스트"
      ],
      "metadata": {
        "id": "an_2pqyB-va0"
      }
    },
    {
      "cell_type": "code",
      "source": [
        "# 리스트 안의 리스트로 하나의 요소로 묶어서 생각\n",
        "a=[[1,2,3],[4,5,6]]\n",
        "print(a,\"len(a)=\", len(a))\n",
        "\n",
        "# 따라서 인덱싱도 마찬가지\n",
        "print(a[0])\n",
        "print(a[1])\n",
        "print(a[0][0])\n",
        "print(a[0][1])\n",
        "print(a[0][2])\n",
        "print(a[1][0])\n",
        "\n",
        "a[1][1] =500\n",
        "print(a)"
      ],
      "metadata": {
        "colab": {
          "base_uri": "https://localhost:8080/"
        },
        "id": "1xKUv2Yq-y3E",
        "outputId": "0ceb6404-a04a-4bc7-ab0b-87537af4eedb"
      },
      "execution_count": 155,
      "outputs": [
        {
          "output_type": "stream",
          "name": "stdout",
          "text": [
            "[[1, 2, 3], [4, 5, 6]] len(a)= 2\n",
            "[1, 2, 3]\n",
            "[4, 5, 6]\n",
            "1\n",
            "2\n",
            "3\n",
            "4\n",
            "[[1, 2, 3], [4, 500, 6]]\n"
          ]
        }
      ]
    },
    {
      "cell_type": "code",
      "source": [
        "# 이중 리스트에 for문 돌릴때 출력\n",
        "a=[[1,2,3],[4,5,6]]\n",
        "for i in a:\n",
        "    print(i)\n",
        "print()\n",
        "\n",
        "# 리스트를 분해해서 나열하고 싶을 때\n",
        "# 각각의 리스트 갯수가 다를 때\n",
        "#1\n",
        "for i in a:\n",
        "    for j in i:\n",
        "        print(j,end=\" \")\n",
        "    print()\n",
        "print()\n",
        "\n",
        "#2 복수개를 받아서 출력\n",
        "# 각각의 리스트 개수가 같을때\n",
        "for x,y,z in a:\n",
        "    print(x,y,z)\n",
        "print()\n",
        "\n",
        "#3 제일 파이썬스럽지 않은 코드\n",
        "# 각각의 리스트 갯수가 다를 때\n",
        "for i in range(len(a)):\n",
        "    for j in range(len(a[i])):\n",
        "        print(a[i][j],end=\" \")\n",
        "    print()"
      ],
      "metadata": {
        "colab": {
          "base_uri": "https://localhost:8080/"
        },
        "id": "eT8vE6G-_Cr8",
        "outputId": "c2396a3b-3386-4bdc-aff2-64f1d94d33ad"
      },
      "execution_count": 162,
      "outputs": [
        {
          "output_type": "stream",
          "name": "stdout",
          "text": [
            "[1, 2, 3]\n",
            "[4, 5, 6]\n",
            "1 2 3 \n",
            "4 5 6 \n",
            "1 2 3\n",
            "4 5 6\n"
          ]
        }
      ]
    },
    {
      "cell_type": "code",
      "source": [
        "# 빈 리스트 0으로 초기화하기\n",
        "a=[]\n",
        "for i in range(5):\n",
        "    a.append(0)\n",
        "print(a)\n",
        "\n",
        "# 빈리스트에 2개원소로 하는 3개의 리스트 0으로 초기화\n",
        "a=[]\n",
        "for i in range(3):\n",
        "    line=[]\n",
        "    for j in range(2):\n",
        "        line += [0]\n",
        "    a += [line]\n",
        "print(a)\n",
        "\n",
        "# 표현식으로 나타내기\n",
        "# 이중 리스트를 만들어서 직관적으로\n",
        "a =[[0 for i in range(2)]for j in range(3)]\n",
        "print(a)\n",
        "\n",
        "# 인덱싱으로 추출이 필요없을 때 _로 반복만 해도 됨\n",
        "a =[[0 for _ in range(2)]for _ in range(3)]\n",
        "print(a)\n",
        "\n",
        "#\n",
        "a= [[0]*2 for _ in range(3)]\n",
        "print(a)\n",
        "\n",
        "#\n",
        "a =[[0]*2]*3\n",
        "print(a)"
      ],
      "metadata": {
        "colab": {
          "base_uri": "https://localhost:8080/"
        },
        "id": "JcdyuM_h_53g",
        "outputId": "d076a81a-85cd-46f2-aa7f-2d0189e57726"
      },
      "execution_count": 183,
      "outputs": [
        {
          "output_type": "stream",
          "name": "stdout",
          "text": [
            "[0, 0, 0, 0, 0]\n",
            "[[0, 0], [0, 0], [0, 0]]\n",
            "[[0, 0], [0, 0], [0, 0]]\n",
            "[[0, 0], [0, 0], [0, 0]]\n",
            "[[0, 0], [0, 0], [0, 0]]\n",
            "[[0, 0], [0, 0], [0, 0]]\n"
          ]
        }
      ]
    },
    {
      "cell_type": "code",
      "source": [
        "# 일률적이지 않은 리스트 갯수로 이루어진 리스트 만들기\n",
        "a=[3,1,3,2]\n",
        "b=[]\n",
        "for i in a:\n",
        "    line=[]\n",
        "    for j in range(i):\n",
        "        line+=[0]\n",
        "    b+=[line]\n",
        "print(b)\n",
        "\n",
        "# 표현식 : 나중에 이런 표현식이 훨씬 간단하고 파워풀해짐\n",
        "a=[3,1,3,2]\n",
        "a=[[0]*i for i in a]\n",
        "print(a)"
      ],
      "metadata": {
        "colab": {
          "base_uri": "https://localhost:8080/"
        },
        "id": "eWuwZ2a0DxDq",
        "outputId": "eb4c7a4c-6697-449a-820e-f5ee24ebdde3"
      },
      "execution_count": 187,
      "outputs": [
        {
          "output_type": "stream",
          "name": "stdout",
          "text": [
            "[[0, 0, 0], [0], [0, 0, 0], [0, 0]]\n",
            "[[0, 0, 0], [0], [0, 0, 0], [0, 0]]\n"
          ]
        }
      ]
    },
    {
      "cell_type": "code",
      "source": [
        "# 이중리스트일 때 카피는?\n",
        "a=[[1,2],[3,4]]\n",
        "b=a.copy()\n",
        "b[0][0]=100\n",
        "print(b)\n",
        "print(a)\n",
        "# copy를 사용해도 a,b 둘다 바뀌어 있음\n",
        "# deepcopy를 사용해야함"
      ],
      "metadata": {
        "colab": {
          "base_uri": "https://localhost:8080/"
        },
        "id": "aeB6eBF-Izo8",
        "outputId": "947019b4-c69a-49f7-bed0-4455227efddc"
      },
      "execution_count": 190,
      "outputs": [
        {
          "output_type": "stream",
          "name": "stdout",
          "text": [
            "[[100, 2], [3, 4]]\n",
            "[[100, 2], [3, 4]]\n"
          ]
        }
      ]
    },
    {
      "cell_type": "code",
      "source": [
        "# deepcopy()\n",
        "# 리스트 안의 리스트까지 깊이 복사해줌\n",
        "import copy # deepcopy()를 사용하기 위한 library import\n",
        "a=[[1,2],[3,4]]\n",
        "b=copy.deepcopy(a)\n",
        "b[0][0]=100\n",
        "print(b)\n",
        "print(a)"
      ],
      "metadata": {
        "colab": {
          "base_uri": "https://localhost:8080/"
        },
        "id": "xSYn0EAQJUnr",
        "outputId": "9cbd4a68-a6bf-4d23-aa0d-8b8a60f898f5"
      },
      "execution_count": 192,
      "outputs": [
        {
          "output_type": "stream",
          "name": "stdout",
          "text": [
            "[[100, 2], [3, 4]]\n",
            "[[1, 2], [3, 4]]\n"
          ]
        }
      ]
    },
    {
      "cell_type": "markdown",
      "source": [
        "## print 응용"
      ],
      "metadata": {
        "id": "4gp04sCUJ09g"
      }
    },
    {
      "cell_type": "code",
      "source": [
        "a=1\n",
        "b=2\n",
        "c=\"gg\"\n",
        "print(\"a =\",a,\"b =\",b,\"c =\",c)"
      ],
      "metadata": {
        "colab": {
          "base_uri": "https://localhost:8080/"
        },
        "id": "-kwu1JXCJu7o",
        "outputId": "19d06fca-af37-4bb8-d14c-8656f2714cde"
      },
      "execution_count": 1,
      "outputs": [
        {
          "output_type": "stream",
          "name": "stdout",
          "text": [
            "a = 1 b = 2 c = gg\n"
          ]
        }
      ]
    },
    {
      "cell_type": "code",
      "source": [
        "a=1\n",
        "b=2\n",
        "c=\"gg\"\n",
        "print(\"a ={}, b ={},c ={}\".format(a,b,c))"
      ],
      "metadata": {
        "colab": {
          "base_uri": "https://localhost:8080/"
        },
        "id": "LZZs2DvSJdp6",
        "outputId": "4f7eb862-6eaa-40e8-d7c6-ceb9d914055c"
      },
      "execution_count": 5,
      "outputs": [
        {
          "output_type": "stream",
          "name": "stdout",
          "text": [
            "a =1, b =2,c =gg\n"
          ]
        }
      ]
    },
    {
      "cell_type": "code",
      "source": [
        "a=1\n",
        "b=2\n",
        "c=\"gg\"\n",
        "print(\"a ={0}, b ={1},c ={2}\".format(a,b,c))"
      ],
      "metadata": {
        "colab": {
          "base_uri": "https://localhost:8080/"
        },
        "id": "1l1AnqmTK4gs",
        "outputId": "52fa5c30-6076-4b71-d515-2eeeef153fd7"
      },
      "execution_count": 6,
      "outputs": [
        {
          "output_type": "stream",
          "name": "stdout",
          "text": [
            "a =1, b =2,c =gg\n"
          ]
        }
      ]
    },
    {
      "cell_type": "code",
      "source": [
        "a=1\n",
        "b=2\n",
        "c=\"gg\"\n",
        "print(\"a ={num1}, b ={num2},c ={str1}\".format(str1=c,num1=2,num2=4))"
      ],
      "metadata": {
        "colab": {
          "base_uri": "https://localhost:8080/"
        },
        "id": "Xgch6jgQML2C",
        "outputId": "a22742a8-0d49-46f1-83b2-e7f965184b72"
      },
      "execution_count": 7,
      "outputs": [
        {
          "output_type": "stream",
          "name": "stdout",
          "text": [
            "a =2, b =4,c =gg\n"
          ]
        }
      ]
    },
    {
      "cell_type": "code",
      "source": [
        "# 주로 f string 을 사용하는게 편함\n",
        "a=1\n",
        "b=2\n",
        "c=\"gg\"\n",
        "print(f\"a={a},b={b},c={c}\")"
      ],
      "metadata": {
        "colab": {
          "base_uri": "https://localhost:8080/"
        },
        "id": "GJ5C5OCjMbZ8",
        "outputId": "56ec163e-eadf-4aab-a1fa-32013136b7f8"
      },
      "execution_count": 8,
      "outputs": [
        {
          "output_type": "stream",
          "name": "stdout",
          "text": [
            "a=1,b=2,c=gg\n"
          ]
        }
      ]
    },
    {
      "cell_type": "markdown",
      "source": [
        "## 텍스트 파일 만들고 쓰기"
      ],
      "metadata": {
        "id": "NhWgfKjkN5bn"
      }
    },
    {
      "cell_type": "code",
      "source": [
        "# 구글 드라이브 content에 폴더 만들기\n",
        "import os\n",
        "folder_name=\"saved\"\n",
        "if not os.path.exists(folder_name):\n",
        "    os.makedirs(folder_name)"
      ],
      "metadata": {
        "id": "VOpBcILhN_qP"
      },
      "execution_count": 10,
      "outputs": []
    },
    {
      "cell_type": "code",
      "source": [
        "# 생성한 폴더에 텍스트 파일 생성하고 쓰기\n",
        "with open(\"saved/Hello.txt\",\"w\") as f:\n",
        "    f.write(\"Hello World\\n\")\n",
        "    f.write(\"Hello World\\n\")\n",
        "    f.write(\"Hello World\\n\")"
      ],
      "metadata": {
        "colab": {
          "base_uri": "https://localhost:8080/"
        },
        "id": "s4W7e8HbQa4I",
        "outputId": "78ee830d-fed0-4e75-d5ea-8e243dc37263"
      },
      "execution_count": 11,
      "outputs": [
        {
          "output_type": "stream",
          "name": "stdout",
          "text": [
            "Hello World\n",
            "Hello World\n",
            "Hello World\n",
            "\n"
          ]
        }
      ]
    },
    {
      "cell_type": "code",
      "source": [
        "# 문서 내용 읽기\n",
        "with open(\"saved/Hello.txt\",\"r\") as f:\n",
        "    s = f.read()\n",
        "print(s)"
      ],
      "metadata": {
        "colab": {
          "base_uri": "https://localhost:8080/"
        },
        "id": "oqT-m5d5Qa1k",
        "outputId": "b7672b4e-c359-4692-e395-faa62ce22c99"
      },
      "execution_count": 13,
      "outputs": [
        {
          "output_type": "stream",
          "name": "stdout",
          "text": [
            "Hello World\n",
            "Hello World\n",
            "Hello World\n",
            "\n"
          ]
        }
      ]
    },
    {
      "cell_type": "code",
      "source": [
        "# 문서 내용 읽기\n",
        "with open(\"saved/Hello.txt\",\"r\") as f:\n",
        "    s = f.readline() # 한줄씩 list에 넣는다.\n",
        "    print(s)\n",
        "    print(len(s))\n",
        "\n",
        "    s = f.readlines() # 모두 읽어 list에 넣음\n",
        "    print(s)\n",
        "    print(len(s))\n",
        ""
      ],
      "metadata": {
        "colab": {
          "base_uri": "https://localhost:8080/"
        },
        "id": "6NOhzVLNUQ3Q",
        "outputId": "60ca14e8-13b6-4bc5-9dbd-29bd9ab8709a"
      },
      "execution_count": 17,
      "outputs": [
        {
          "output_type": "stream",
          "name": "stdout",
          "text": [
            "Hello World\n",
            "\n",
            "12\n",
            "['Hello World\\n', 'Hello World\\n']\n",
            "2\n"
          ]
        }
      ]
    },
    {
      "cell_type": "code",
      "source": [
        "# 문서 내 3줄만 읽고 싶을 때\n",
        "with open(\"saved/Hello.txt\",\"r\") as f:\n",
        "    for i in range(3):\n",
        "        s = f.readline()\n",
        "        print(s)"
      ],
      "metadata": {
        "colab": {
          "base_uri": "https://localhost:8080/"
        },
        "id": "9dobffSfRbxP",
        "outputId": "eee97a8d-493b-45cf-c303-85e77fb87b7d"
      },
      "execution_count": 14,
      "outputs": [
        {
          "output_type": "stream",
          "name": "stdout",
          "text": [
            "Hello World\n",
            "\n",
            "Hello World\n",
            "\n",
            "Hello World\n",
            "\n"
          ]
        }
      ]
    },
    {
      "cell_type": "code",
      "source": [
        "# 라인이 몇줄인지 모를때\n",
        "with open(\"saved/Hello.txt\",\"r\") as f:\n",
        "    line= None # None으로 해야 공백(\"\")과 구별되어 while문이 돈다.\n",
        "    while line !=\"\": # 공백이 아니면 읽기\n",
        "        line= f.readline()\n",
        "        print(line,end=\"\")"
      ],
      "metadata": {
        "colab": {
          "base_uri": "https://localhost:8080/"
        },
        "id": "QB2dFarSTXY4",
        "outputId": "0522732b-d43b-424f-e3e2-8af66c08917a"
      },
      "execution_count": 20,
      "outputs": [
        {
          "output_type": "stream",
          "name": "stdout",
          "text": [
            "Hello World\n",
            "Hello World\n",
            "Hello World\n"
          ]
        }
      ]
    },
    {
      "cell_type": "markdown",
      "source": [
        "## 코딩의꽃 함수"
      ],
      "metadata": {
        "id": "QnsxyyjeXiUs"
      }
    },
    {
      "cell_type": "code",
      "source": [
        "# x라는 이름의 변수를 입력으로 받아 x^2을 출력하는 f라는 함수를 정의하라\n",
        "def f(x):\n",
        "    return x**2"
      ],
      "metadata": {
        "id": "A37gpxpMXlAW"
      },
      "execution_count": null,
      "outputs": []
    },
    {
      "cell_type": "markdown",
      "source": [
        "call by assingment\n",
        "\n",
        "| 언어      | 전달방식                                            | 특징         |\n",
        "\n",
        "| ---------- | ---------------------- | ------------------------- |\n",
        "\n",
        "| **C**      | Call by value  | 변수의 값을 복사해서 전달함 |\n",
        "\n",
        "| **Java**| Call by value (of object reference) | 객체의 **참조 값**을 복사해서 전달함 |\n",
        "\n",
        "| **C++** | Call by value / reference (선택 가능) | `&`를 붙이면 참조로 전달 가능|\n",
        "\n",
        "| **Python** | Call by assignment (또는 call by object reference) | 객체 참조를 전달하되, 변수 바인딩은 지역적임 |\n"
      ],
      "metadata": {
        "id": "TfweNB1XcsQ0"
      }
    },
    {
      "cell_type": "code",
      "source": [
        "# call by assignment\n",
        "# modify_list 함수에 전달되 lst는 이 객체에 대한 참조를 받음\n",
        "# 함수 안에서 lst.append(100) 하면 실제 원본 객체가 수정됨\n",
        "def modify_list(lst):\n",
        "    lst.append(100)\n",
        "\n",
        "my_list = [1, 2, 3]\n",
        "modify_list(my_list)\n",
        "print(my_list)  # [1, 2, 3, 100]\n"
      ],
      "metadata": {
        "id": "zGcZ85IUb_i3"
      },
      "execution_count": null,
      "outputs": []
    },
    {
      "cell_type": "code",
      "source": [
        "# call by assignment :\n",
        "# immutable 한 int는 기존 객체 수정하는게 아니라 새로운 객체를 만들고 n이 그것을 가리킴\n",
        "def modify_number(n):\n",
        "    n += 10\n",
        "\n",
        "x = 5\n",
        "modify_number(x)\n",
        "print(x)  # 5\n"
      ],
      "metadata": {
        "id": "0HbhFgJlb40E"
      },
      "execution_count": null,
      "outputs": []
    },
    {
      "cell_type": "code",
      "source": [
        "#immutable 한 int 에 대한\n",
        "def f(a):\n",
        "    a=5\n",
        "a=3\n",
        "f(a)\n",
        "print(a)\n",
        "\n",
        "#mutable 한 list에 대한\n",
        "def f(x):\n",
        "    x[0]=5\n",
        "a=[1,2]\n",
        "f(a)\n",
        "print(a)"
      ],
      "metadata": {
        "colab": {
          "base_uri": "https://localhost:8080/"
        },
        "id": "vQxgOypMeBS1",
        "outputId": "16dc70d5-8363-4e66-a5b2-43834d190428"
      },
      "execution_count": 22,
      "outputs": [
        {
          "output_type": "stream",
          "name": "stdout",
          "text": [
            "3\n",
            "[5, 2]\n"
          ]
        }
      ]
    },
    {
      "cell_type": "code",
      "source": [
        "# 복수의 출력값을 내는 함수 (c에선 하나의 값만 return 가능)\n",
        "def add_sub(a,b):\n",
        "    c=a+b\n",
        "    d=a-b\n",
        "    return c,d\n",
        "\n",
        "y=add_sub(1,2) # 하나로 받으면 튜플로 묶어서 줌\n",
        "print(y)"
      ],
      "metadata": {
        "colab": {
          "base_uri": "https://localhost:8080/"
        },
        "id": "tcWnTHsfb_ge",
        "outputId": "fddfb20d-6090-43d8-ef48-e93b4d8787ee"
      },
      "execution_count": 27,
      "outputs": [
        {
          "output_type": "stream",
          "name": "stdout",
          "text": [
            "(3, -1)\n"
          ]
        }
      ]
    },
    {
      "cell_type": "code",
      "source": [
        "def add(a,b):\n",
        "    return a+b\n",
        "def mul(a,b):\n",
        "    return a*b\n",
        "def show_addmul(a,d):\n",
        "    print(add(a,d))\n",
        "    print(mul(a,d))\n",
        "\n",
        "show_addmul(10,20)"
      ],
      "metadata": {
        "colab": {
          "base_uri": "https://localhost:8080/"
        },
        "id": "AUdXGk9sq-5f",
        "outputId": "407a6618-c8fb-44f2-faa5-6997736bb595"
      },
      "execution_count": 28,
      "outputs": [
        {
          "output_type": "stream",
          "name": "stdout",
          "text": [
            "30\n",
            "200\n"
          ]
        }
      ]
    },
    {
      "cell_type": "code",
      "source": [
        "# 언패킹 *\n",
        "x=(10,20)\n",
        "print(x)\n",
        "print(*x) # 언패킹\n",
        "# 인자가 두개 필요한 함수를 호출시 튜플을 전달하면,\n",
        "# 묶여서 하나의 인자로 인식됨.\n",
        "# 이 때 * 앞에 붙여 언패킹 해주면 튜플이 풀려서 두개의 인자로 들어감\n",
        "# show_addmul(x)\n",
        "show_addmul(*x)\n",
        "\n",
        "x=10,20 # 이렇게 하면 파이썬에서 튜플로 묶어버림\n",
        "print(x)\n",
        "show_addmul(*x) #다시 언패킹 해줘야 함"
      ],
      "metadata": {
        "colab": {
          "base_uri": "https://localhost:8080/"
        },
        "id": "_snGS6swrVKv",
        "outputId": "eee7aa47-58bc-4d8c-b500-290ba7e2a3fb"
      },
      "execution_count": 32,
      "outputs": [
        {
          "output_type": "stream",
          "name": "stdout",
          "text": [
            "(10, 20)\n",
            "10 20\n",
            "30\n",
            "200\n",
            "(10, 20)\n",
            "30\n",
            "200\n"
          ]
        }
      ]
    },
    {
      "cell_type": "code",
      "source": [
        "def fun(a):\n",
        "    print(f\"a 는 {a}가 들어가 있다. 타입은 {type(a)}이다.\")\n",
        "\n",
        "fun(1)\n",
        "\n",
        "# 인자를 *a 로 받으면 튜플로 받아서 여러개 받을 수 있음\n",
        "# 즉 언패킹으로 받으니 a는 패킹된 튜플이라는 것\n",
        "def fun(*a):\n",
        "    print(f\"a 는 {a}가 들어가 있다. 타입은 {type(a)}이다.\")\n",
        "\n",
        "fun(1,2,3,4,5)\n",
        "\n",
        "# 받은 인자의 값을 하나씩 확인\n",
        "def fun(*args): # args : aguments\n",
        "    print(f\"a 는 {args}가 들어가 있다. 타입은 {type(args)}이다.\")\n",
        "    for i in args: # 받은 인자의 값을 하나씩 확인\n",
        "        print(i)\n",
        "fun(1,2,3,4,5)\n",
        "\n"
      ],
      "metadata": {
        "colab": {
          "base_uri": "https://localhost:8080/"
        },
        "id": "nNi0dB3YrdPj",
        "outputId": "7b8cd4a9-0a36-46fa-8b0c-4966f4ad94b8"
      },
      "execution_count": 42,
      "outputs": [
        {
          "output_type": "stream",
          "name": "stdout",
          "text": [
            "a 는 1가 들어가 있다. 타입은 <class 'int'>이다.\n",
            "a 는 (1, 2, 3, 4, 5)가 들어가 있다. 타입은 <class 'tuple'>이다.\n",
            "a 는 (1, 2, 3, 4, 5)가 들어가 있다. 타입은 <class 'tuple'>이다.\n",
            "1\n",
            "2\n",
            "3\n",
            "4\n",
            "5\n"
          ]
        }
      ]
    },
    {
      "cell_type": "code",
      "source": [
        "def introduce1(name,age,address):\n",
        "    print(f\"이름은 {name}이고, 나이는 {age}, 사는곳은 {address}이다.\")\n",
        "\n",
        "# 디폴드값 설정할 때 디폴드값은 뒤쪽에 넣어야 함,\n",
        "#def introduce2(age=\"비밀\",name,address=\"비밀\"): 이건 에러남\n",
        "\n",
        "def introduce2(name,age=\"비밀\",address=\"비밀\"): # 디폴드값 설정\n",
        "    print(f\"이름은 {name}이고, 나이는 {age}, 사는곳은 {address}이다.\")\n",
        "\n",
        "def introduce3(name=\"비밀\",age=\"비밀\",address=\"비밀\"): # 디폴드값 설정\n",
        "    print(f\"이름은 {name}이고, 나이는 {age}, 사는곳은 {address}이다.\")\n",
        "\n",
        "name=\"len\"\n",
        "age=100\n",
        "address=\"korea\"\n",
        "introduce1(name=name,age=age,address=address)\n",
        "#introduce1(name=name,age=age) # 에러:디폴드값 없어서 인자로 모두 전달해야 함\n",
        "introduce2(name=name,age=age)\n",
        "introduce2(name=name)\n",
        "# introduce2(age=age) # 디폴드값 없는 name 값을 전달하지 않아 에러\n",
        "introduce3()"
      ],
      "metadata": {
        "colab": {
          "base_uri": "https://localhost:8080/"
        },
        "id": "rozfSOsMwIwa",
        "outputId": "a5a59551-68ba-4f51-870b-22b6ea1c0a1f"
      },
      "execution_count": 49,
      "outputs": [
        {
          "output_type": "stream",
          "name": "stdout",
          "text": [
            "이름은 len이고, 나이는 100, 사는곳은 korea이다.\n",
            "이름은 len이고, 나이는 100, 사는곳은 비밀이다.\n",
            "이름은 len이고, 나이는 비밀, 사는곳은 비밀이다.\n",
            "이름은 비밀이고, 나이는 비밀, 사는곳은 비밀이다.\n"
          ]
        }
      ]
    },
    {
      "cell_type": "code",
      "source": [
        "# 인자를 dict 로 받기\n",
        "# def fun(**a):\n",
        "#     print(f\"a 는 {a}가 들어가 있다. 타입은 {type(a)}이다.\")\n",
        "\n",
        "# fun(a=1, b=2, c=3)\n",
        "\n",
        "d={\"name\":\"len\",\"age\":2,\"address\":\"korea\"}\n",
        "print(d)\n",
        "print(*d)\n",
        "introduce3(*d)\n",
        "print({**d})\n",
        "# ** 은 언팩킹을 두번 한 것으로 리스트,튜플에는 안됨.\n",
        "# 딕셔너리에만 가능\n",
        "introduce3(**d) #introduce3(name=\"len\",age=2,address=\"korea\")와 동일\n",
        "print(*(1,2,3))\n",
        "#print(**(1,2,3))# ** 은 언팩킹을 두번 한 것으로 튜플은 안됨."
      ],
      "metadata": {
        "colab": {
          "base_uri": "https://localhost:8080/"
        },
        "id": "Ci53WZY7t3_w",
        "outputId": "5819813f-e96d-4ae7-c304-6bc2210880db"
      },
      "execution_count": 66,
      "outputs": [
        {
          "output_type": "stream",
          "name": "stdout",
          "text": [
            "{'name': 'len', 'age': 2, 'address': 'korea'}\n",
            "name age address\n",
            "이름은 name이고, 나이는 age, 사는곳은 address이다.\n",
            "{'name': 'len', 'age': 2, 'address': 'korea'}\n",
            "이름은 len이고, 나이는 2, 사는곳은 korea이다.\n",
            "1 2 3\n"
          ]
        }
      ]
    },
    {
      "cell_type": "code",
      "source": [
        "# ** 언패킹 예시\n",
        "def my_fuc(**kwargs): # kwargs : keywords arguments\n",
        "    print(f\"kwargs에는 {kwargs}가 들어가 있다. 타입은 {type(kwargs)}이다.\")\n",
        "\n",
        "my_fuc(name=\"len\",age=2,address=\"korea\")\n",
        ""
      ],
      "metadata": {
        "colab": {
          "base_uri": "https://localhost:8080/"
        },
        "id": "JRV2jEdJ1d7y",
        "outputId": "88c82a5a-95cb-44d5-998d-31056cf75001"
      },
      "execution_count": 73,
      "outputs": [
        {
          "output_type": "stream",
          "name": "stdout",
          "text": [
            "kwargs에는 {'name': 'len', 'age': 2, 'address': 'korea'}가 들어가 있다. 타입은 <class 'dict'>이다.\n"
          ]
        }
      ]
    },
    {
      "cell_type": "code",
      "source": [
        "def introduce(**kwargs):\n",
        "    if 'name' in kwargs:\n",
        "        print(f\"My name is {kwargs['name']}\")\n",
        "    if 'age' in kwargs:\n",
        "        print(f\"My age is {kwargs['age']}\")\n",
        "    if 'address' in kwargs:\n",
        "        print(f\"I live in {kwargs['address']}\")\n",
        "\n",
        "introduce(name=\"len\", age=2, address=\"korea\")\n",
        "introduce(name=\"len\") # 아깐 안 주면 비밀로 떴는데 여기선 아예 안뜸"
      ],
      "metadata": {
        "colab": {
          "base_uri": "https://localhost:8080/"
        },
        "id": "X-kAnosv2Vqv",
        "outputId": "4223ed41-5499-44c0-a09d-4a04e68a2d93"
      },
      "execution_count": 75,
      "outputs": [
        {
          "output_type": "stream",
          "name": "stdout",
          "text": [
            "My name is len\n",
            "My age is 2\n",
            "I live in korea\n",
            "My name is len\n"
          ]
        }
      ]
    },
    {
      "cell_type": "markdown",
      "source": [
        "## 재귀함수"
      ],
      "metadata": {
        "id": "z-OEEWmu7EQZ"
      }
    },
    {
      "cell_type": "code",
      "source": [
        "# 함수 안에서 자기 자신을 호출하는 것을 재귀함수라 함\n",
        "# 이렇게 사용하면 while문 처럼 무한루프\n",
        "def say():\n",
        "    print(\"Hello world\")\n",
        "    say()\n",
        "\n",
        "#say()"
      ],
      "metadata": {
        "id": "LD_v-IAN5OPi"
      },
      "execution_count": 76,
      "outputs": []
    },
    {
      "cell_type": "code",
      "source": [
        "def say(count):\n",
        "    if count == 0:\n",
        "        return # return을 만나면 함수가 종료\n",
        "    print(\"Hello World\")\n",
        "    count -= 1 # count = count - 1\n",
        "    say(count)\n",
        "\n",
        "say(3)"
      ],
      "metadata": {
        "colab": {
          "base_uri": "https://localhost:8080/"
        },
        "id": "zUxiLfJ19SEh",
        "outputId": "f2f07530-4f92-4642-908a-e60ccb447b42"
      },
      "execution_count": 77,
      "outputs": [
        {
          "output_type": "stream",
          "name": "stdout",
          "text": [
            "Hello World\n",
            "Hello World\n",
            "Hello World\n"
          ]
        }
      ]
    },
    {
      "cell_type": "markdown",
      "source": [
        "## 로컬변수와 글로벌변수"
      ],
      "metadata": {
        "id": "QbAEItUpGyzu"
      }
    },
    {
      "cell_type": "code",
      "source": [
        "# 글로벌 변수\n",
        "EPOCH =2 # 전체 데이터 2번 반복해서 봄\n",
        "BATCH =5 # 5개씩 꺼내본다는 뜻\n",
        "\n",
        "def train(weight): #weight는 매개변수, 여기서 weight=0을 실행\n",
        "    x=1 # x는 지역 변수\n",
        "    for i in range(EPOCH):\n",
        "        for j in range(BATCH):\n",
        "            print(f\"{i}번째 epoch이고, {j}번째 batch 이다.\")\n",
        "            weight += 1\n",
        "    return weight\n",
        "\n",
        "train(0)\n",
        "#print(x) # 함수내 지역변수이므로 함수 밖에서 호출하면 정의되어 있지 않다고 나옴"
      ],
      "metadata": {
        "colab": {
          "base_uri": "https://localhost:8080/"
        },
        "id": "zoJ0jupn9rJd",
        "outputId": "3861c6ac-2666-4d72-c895-44555929390f"
      },
      "execution_count": 3,
      "outputs": [
        {
          "output_type": "stream",
          "name": "stdout",
          "text": [
            "0번째 epoch이고, 0번째 batch 이다.\n",
            "0번째 epoch이고, 1번째 batch 이다.\n",
            "0번째 epoch이고, 2번째 batch 이다.\n",
            "0번째 epoch이고, 3번째 batch 이다.\n",
            "0번째 epoch이고, 4번째 batch 이다.\n",
            "1번째 epoch이고, 0번째 batch 이다.\n",
            "1번째 epoch이고, 1번째 batch 이다.\n",
            "1번째 epoch이고, 2번째 batch 이다.\n",
            "1번째 epoch이고, 3번째 batch 이다.\n",
            "1번째 epoch이고, 4번째 batch 이다.\n"
          ]
        },
        {
          "output_type": "execute_result",
          "data": {
            "text/plain": [
              "10"
            ]
          },
          "metadata": {},
          "execution_count": 3
        }
      ]
    },
    {
      "cell_type": "code",
      "source": [
        "x=10\n",
        "def f():\n",
        "    x=100\n",
        "    print(x)\n",
        "\n",
        "f() # 로컬변수 출력\n",
        "print(x) # 글로벌 변수 출력"
      ],
      "metadata": {
        "colab": {
          "base_uri": "https://localhost:8080/"
        },
        "id": "-fVX8Ms_qIZp",
        "outputId": "ff1a91ce-1357-480f-de06-fa5831fce29f"
      },
      "execution_count": 4,
      "outputs": [
        {
          "output_type": "stream",
          "name": "stdout",
          "text": [
            "100\n",
            "10\n"
          ]
        }
      ]
    },
    {
      "cell_type": "code",
      "source": [
        "x=10\n",
        "def f():\n",
        "    global x # 글로벌 변수x 사용\n",
        "    x=20 # 글러벌 변수가 바뀜\n",
        "    print(x)\n",
        "\n",
        "f()\n",
        "print(x)# 글러벌 변수가 바뀜"
      ],
      "metadata": {
        "colab": {
          "base_uri": "https://localhost:8080/"
        },
        "id": "wbyAZObErN6G",
        "outputId": "301ff46a-960f-43ab-bcfc-ad010a449bcb"
      },
      "execution_count": 5,
      "outputs": [
        {
          "output_type": "stream",
          "name": "stdout",
          "text": [
            "20\n",
            "20\n"
          ]
        }
      ]
    },
    {
      "cell_type": "markdown",
      "source": [
        "## 람다 표현식\n",
        "함수를 짧게 표현한 식"
      ],
      "metadata": {
        "id": "jNU_qQ3ZsGLG"
      }
    },
    {
      "cell_type": "code",
      "source": [
        "def plus_ten(x):\n",
        "    return x+10\n",
        "plus_ten(10)"
      ],
      "metadata": {
        "colab": {
          "base_uri": "https://localhost:8080/"
        },
        "id": "RyNGW-iysFij",
        "outputId": "7f063f28-5f11-4911-8d63-e4417fef7fee"
      },
      "execution_count": 6,
      "outputs": [
        {
          "output_type": "execute_result",
          "data": {
            "text/plain": [
              "20"
            ]
          },
          "metadata": {},
          "execution_count": 6
        }
      ]
    },
    {
      "cell_type": "code",
      "source": [
        "# 위의 함수를 람다식으로 짧게 표현\n",
        "plus_ten = lambda x: x+10\n",
        "plus_ten(10)\n",
        "\n",
        "# 이름없는 함수에 10을 넣어 호출\n",
        "(lambda x: x+10)(10)"
      ],
      "metadata": {
        "colab": {
          "base_uri": "https://localhost:8080/"
        },
        "id": "An1jrnYUscc2",
        "outputId": "9edbcfeb-e220-43ef-e842-322b85a07d06"
      },
      "execution_count": 10,
      "outputs": [
        {
          "output_type": "execute_result",
          "data": {
            "text/plain": [
              "20"
            ]
          },
          "metadata": {},
          "execution_count": 10
        }
      ]
    },
    {
      "cell_type": "code",
      "source": [
        "#map 함수를 입력으로 받음\n",
        "plus_ten= lambda x:x+10\n",
        "\n",
        "print(list(map(plus_ten,[1,2,3]))) #입력받은 함수를 리스트 원소에 각각 적용시켜줌\n",
        "print(list(map(lambda x:x+10,[1,2,3]))) # 직접 람다식 넣음"
      ],
      "metadata": {
        "colab": {
          "base_uri": "https://localhost:8080/"
        },
        "id": "odEiB8A1ssQ_",
        "outputId": "95bcf732-9db5-4da8-d612-06b2ef43a481"
      },
      "execution_count": 15,
      "outputs": [
        {
          "output_type": "stream",
          "name": "stdout",
          "text": [
            "[11, 12, 13]\n",
            "[11, 12, 13]\n"
          ]
        }
      ]
    },
    {
      "cell_type": "code",
      "source": [
        "# 입력 2개\n",
        "f = lambda x,y:x+y\n",
        "print(f(1,2))\n",
        "\n",
        "a=[1,2,3]\n",
        "b=[4,5,6]\n",
        "print(list(map(lambda x,y:x*y,a,b)))"
      ],
      "metadata": {
        "colab": {
          "base_uri": "https://localhost:8080/"
        },
        "id": "iApxk_f2t35K",
        "outputId": "28a7ef41-3ed2-463d-d009-de99c94eec08"
      },
      "execution_count": 18,
      "outputs": [
        {
          "output_type": "stream",
          "name": "stdout",
          "text": [
            "3\n",
            "[4, 10, 18]\n"
          ]
        }
      ]
    },
    {
      "cell_type": "code",
      "source": [
        "def add_1(a,b):\n",
        "    c=1\n",
        "    return a+b\n",
        "print(add_1(1,2))\n",
        "\n",
        "# 이 경우 함수내 변수선언 c=1 가 필요한데 람다식은 변수선언은 할 수 없어서\n",
        "# 람다식으로 표현 불가능\n",
        "#add_1 = lambda a,b c=1: a+b+c"
      ],
      "metadata": {
        "colab": {
          "base_uri": "https://localhost:8080/"
        },
        "id": "nQW-gNxEulw8",
        "outputId": "c2e335d7-924a-4a60-cdf7-82af4dd25c31"
      },
      "execution_count": 19,
      "outputs": [
        {
          "output_type": "stream",
          "name": "stdout",
          "text": [
            "3\n"
          ]
        }
      ]
    },
    {
      "cell_type": "code",
      "source": [
        "def func(x):\n",
        "    if x%2==0:\n",
        "        return x*2\n",
        "    else:\n",
        "        return x\n",
        "\n",
        "print(list(map(func,[1,2,3,4])))\n",
        "\n",
        "# 람다 표현식에서는 if , else 반드시 쌍으로 써야 함\n",
        "f = lambda x: x*2 if x%2==0  else x\n",
        "print(list(map(f,[1,2,3,4])))"
      ],
      "metadata": {
        "colab": {
          "base_uri": "https://localhost:8080/"
        },
        "id": "nmokT8ttwYti",
        "outputId": "c12d33de-9175-489d-f3fd-7f35d0c95800"
      },
      "execution_count": 23,
      "outputs": [
        {
          "output_type": "stream",
          "name": "stdout",
          "text": [
            "[1, 4, 3, 8]\n",
            "[1, 4, 3, 8]\n"
          ]
        }
      ]
    },
    {
      "cell_type": "code",
      "source": [
        "def func(x):\n",
        "    if x%2==0:\n",
        "        return x*2\n",
        "    elif x==2:\n",
        "        return x*3\n",
        "    else:\n",
        "        return x\n",
        "print(list(map(func,[1,2,3,4])))\n",
        "\n",
        "f= lambda x: x*2 if x%2==0 else (x*3 if x==2 else x)\n",
        "print(list(map(f,[1,2,3,4])))"
      ],
      "metadata": {
        "colab": {
          "base_uri": "https://localhost:8080/"
        },
        "id": "scJXFM1MxMZR",
        "outputId": "2324df3d-ac0c-4789-fbb8-7a01c89538b9"
      },
      "execution_count": 24,
      "outputs": [
        {
          "output_type": "stream",
          "name": "stdout",
          "text": [
            "[1, 4, 3, 8]\n"
          ]
        }
      ]
    },
    {
      "cell_type": "markdown",
      "source": [
        "## 클래스"
      ],
      "metadata": {
        "id": "Kgb2yF28zJKl"
      }
    },
    {
      "cell_type": "code",
      "source": [
        "# 객체 지향 프로그래밍\n",
        "#로봇을 만든다고 하자 -> 로봇 키, 무게, 안녕이라고 인사\n",
        "# Robot 이라는 기능을 나타내는 class\n",
        "\n",
        "#__init__ 메서드가 없는 class 는\n",
        "# 인스턴스 생성 즉시 initialize 되지 않음\n",
        "class Robot:\n",
        "    def greetings(self): # 클래스내 함수는 메서드라고 함\n",
        "        print(\"hi\")\n",
        "\n",
        "bot1 = Robot() # Robot 클래스의 인스턴스 생성\n",
        "# bot1.greetings()"
      ],
      "metadata": {
        "id": "JhJ9T88_7Ngs"
      },
      "execution_count": 36,
      "outputs": []
    },
    {
      "cell_type": "code",
      "source": [
        "# Class의 인스턴스 생성시 자동실행(init)위한 __init__ 함수 세팅\n",
        "# __init__ 있는 class 는 인스턴스 생성 즉시 init()메서드로 들어간다.\n",
        "class Robot:\n",
        "    # 클래스 내에 자기자신을 첫번째 매개변수로 받음 (class 내에서만 사용)\n",
        "    # initialize 라서 인스턴스 생성 즉시 이 함수 실행됨\n",
        "    #__init__ 은 약속된 함수명으로 꼭 똑같이 적어야 함(special method)\n",
        "    # 만든 동시에 initialize 하고 싶다면 사용해서 세팅함\n",
        "    def __init__(self, name, weight):\n",
        "        self.name = name\n",
        "        self.weight = weight\n",
        "        print(\"여기로 바로 들어옴\")\n",
        "    def greetings(self): # 클래스내 함수는 메서드라고 함\n",
        "        print(\"hi, I am \" + self.name)\n",
        "\n",
        "# Robot 클래스를 실체화하는 인스턴스 생성\n",
        "\n",
        "bot1 = Robot(\"nara\",23) # Robot 클래스의 인스턴스 생성과 동시 __init__함수 실행됨\n",
        "# bot1.greetings() # 클래스 인스턴트 내에 있는 greetings 메서드를 호출"
      ],
      "metadata": {
        "colab": {
          "base_uri": "https://localhost:8080/"
        },
        "id": "GD5b_-egyKXr",
        "outputId": "b5e752e3-c41f-4c20-9cb6-1894f72cef4d"
      },
      "execution_count": 38,
      "outputs": [
        {
          "output_type": "stream",
          "name": "stdout",
          "text": [
            "여기로 바로 들어옴\n"
          ]
        }
      ]
    },
    {
      "cell_type": "code",
      "source": [
        "# a=[1,2,3] # 사실 이 a list 도 클래스 기반, a 가 인스턴스 생성한 상황\n",
        "a.append(4) # 인스턴스 a의 append() 메서드를 실행함\n",
        "print(type(a))"
      ],
      "metadata": {
        "colab": {
          "base_uri": "https://localhost:8080/"
        },
        "id": "6NTMQtfb3nYk",
        "outputId": "5e69791e-cf98-4e01-985c-586e5fee6332"
      },
      "execution_count": 31,
      "outputs": [
        {
          "output_type": "stream",
          "name": "stdout",
          "text": [
            "<class 'list'>\n"
          ]
        }
      ]
    },
    {
      "cell_type": "code",
      "source": [
        "# class 에 __init__ 함수 실행시 속성 저장하기\n",
        "class Robot:\n",
        "    def __init__(self):\n",
        "        self.sentence = \"안녕\"\n",
        "        # Robot의 주머니(self)에 sentence라는 변수명을 만듦.\n",
        "        # self는 만들어진 인스턴스 자기자신 자체를 가리킴\n",
        "        # self.somthing은 self내부의 것(변수,함수)를 가리킴\n",
        "        # 클래스 내부의 변수는 속성(attribute)라고 함\n",
        "\n",
        "    def greetings(self):\n",
        "        #print(sentence) # 없다고 에러뜸\n",
        "        print(self.sentence) # self 주머니에서 sentence를 꺼낸다.\n",
        "\n",
        "bot1 = Robot()\n",
        "bot1.greetings()\n",
        ""
      ],
      "metadata": {
        "colab": {
          "base_uri": "https://localhost:8080/"
        },
        "id": "EmOeeMxX3-W2",
        "outputId": "55bd8446-26b8-40dc-cba4-99fa70775023"
      },
      "execution_count": 41,
      "outputs": [
        {
          "output_type": "stream",
          "name": "stdout",
          "text": [
            "안녕\n"
          ]
        }
      ]
    },
    {
      "cell_type": "code",
      "source": [
        "# class 밖에서 전달받은 인수에 이름을 붙여서 self 주머니에 넣기\n",
        "class Robot:\n",
        "    def __init__(self, name, height, sentence):\n",
        "        # 클래스 내부에서 쓰기 위해\n",
        "        # __init__ 실행되는 동안 self주머니에 차곡차곡 넣는것이다.\n",
        "        self.name = name\n",
        "        self.height = height\n",
        "        self.sentence = sentence\n",
        "\n",
        "    def greetings(self): # __init__함수에서 self 주머니에 넣은것을 공유함\n",
        "        print(self.sentence) # self 주머니에서 꺼내쓰기\n",
        "        print(f\"제 키는 {self.height}이에요\")\n",
        "\n",
        "bot1 = Robot(\"nara\",23,\"안녕\") # 인스턴스 생성\n",
        "bot1.greetings() # bot1내의 greetings 메서드 실행\n",
        "\n",
        "print(bot1.sentence) # 속성(attribute)을 확인하기\n",
        "print(bot1.height)\n",
        "bot1.height -= 10 # 키를 10 줄임\n",
        "bot1.greetings()\n",
        "\n",
        "bot2 = Robot(\"cloud\",44,\"hello\")\n",
        "bot2.greetings()"
      ],
      "metadata": {
        "colab": {
          "base_uri": "https://localhost:8080/"
        },
        "id": "RNSgvjjPBfWe",
        "outputId": "d75ae1c9-19a8-494c-cd2d-0b549d962d43"
      },
      "execution_count": 48,
      "outputs": [
        {
          "output_type": "stream",
          "name": "stdout",
          "text": [
            "안녕\n",
            "제 키는 23이에요\n",
            "안녕\n",
            "23\n",
            "안녕\n",
            "제 키는 13이에요\n",
            "hello\n",
            "제 키는 44이에요\n"
          ]
        }
      ]
    },
    {
      "cell_type": "code",
      "source": [
        "# 위에서 로봇 키를 10센치 줄였는데,\n",
        "# 이번에는 class 내의 속성을 변경하지 못하게 만들기\n",
        "# 비공개(private) 만들고 싶은 속성 앞에 __ 붙이면 됨\n",
        "class Robot:\n",
        "    def __init__(self, name, height, sentence):\n",
        "        # 클래스 내부에서 쓰기 위해\n",
        "        # __init__ 실행되는 동안 self주머니에 차곡차곡 넣는것이다.\n",
        "        self.name = name\n",
        "        self.__height = height\n",
        "        self.__height -= 10 # 클래스 안에서는 변경가능\n",
        "        self.sentence = sentence\n",
        "\n",
        "    def greetings(self): # __init__함수에서 self 주머니에 넣은것을 공유함\n",
        "        print(self.sentence) # self 주머니에서 꺼내쓰기\n",
        "        print(f\"제 키는 {self.__height}이에요\")\n",
        "\n",
        "\n",
        "bot1 = Robot(\"nara\",23,\"안녕\")\n",
        "bot1.greetings()\n",
        "\n",
        "print(bot1.sentence) # 속성확인됨\n",
        "#print(bot1.__height) # 비공개라 안보임\n",
        "# bot1.__height -= 10 # 접근도 안됨 class 안에서는 할 수 있음\n",
        "bot1.greetings()"
      ],
      "metadata": {
        "colab": {
          "base_uri": "https://localhost:8080/"
        },
        "id": "HPMhrGyhDSF_",
        "outputId": "71c9e4c5-d7d9-44a9-8a0c-432d4f70e45b"
      },
      "execution_count": 54,
      "outputs": [
        {
          "output_type": "stream",
          "name": "stdout",
          "text": [
            "안녕\n",
            "제 키는 13이에요\n",
            "안녕\n",
            "안녕\n",
            "제 키는 13이에요\n"
          ]
        }
      ]
    },
    {
      "cell_type": "code",
      "source": [
        "# 상속 -> 효율화\n",
        "class Robot:\n",
        "    def greetings(self):\n",
        "        print(\"로봇입니다.\")\n",
        "\n",
        "class study_bot(Robot): # Robot 클래스 상속받음\n",
        "    def study(self):\n",
        "        print(\"공부하는 로봇입니다.\")\n",
        "\n",
        "study_bot1 = study_bot()\n",
        "study_bot1.greetings() # study_bot 클래스에는 없는 메서드지만 상속받아서 실행 가능함\n",
        "study_bot1.study()"
      ],
      "metadata": {
        "colab": {
          "base_uri": "https://localhost:8080/"
        },
        "id": "Qdt_5nYuG4N0",
        "outputId": "3fcec2ff-fe4d-4ea9-a645-0039c717ebb4"
      },
      "execution_count": 55,
      "outputs": [
        {
          "output_type": "stream",
          "name": "stdout",
          "text": [
            "안녕\n",
            "공부하자\n"
          ]
        }
      ]
    },
    {
      "cell_type": "code",
      "source": [
        "# 메서드 오버라이딩 (overriding)\n",
        "# 상속받은 메서드 덮어쓰기\n",
        "class Robot:\n",
        "    def greetings(self):\n",
        "        print(\"로봇입니다.\")\n",
        "\n",
        "class study_bot(Robot): # Robot 클래스 상속받음\n",
        "    def greetings(self):\n",
        "        # 부모의 greetings을 물려받았으나 여기서 다시 정의하면 덮어써버림\n",
        "        print(\"공부하는 로봇입니다.\")\n",
        "\n",
        "study_bot1 = study_bot()\n",
        "study_bot1.greetings() # study_bot 클래스에는 없는 메서드지만 상속받아서 실행 가능함\n"
      ],
      "metadata": {
        "colab": {
          "base_uri": "https://localhost:8080/"
        },
        "id": "sDJuB8ApJMFp",
        "outputId": "5c29c7ec-fb99-41d0-f055-11fab74d6653"
      },
      "execution_count": 57,
      "outputs": [
        {
          "output_type": "stream",
          "name": "stdout",
          "text": [
            "공부하는 로봇입니다.\n"
          ]
        }
      ]
    },
    {
      "cell_type": "code",
      "source": [
        "# 메서드 오버라이딩 (overriding)\n",
        "# super() 부모기능 유지하면서 덧붙이고 싶을때 오버라이딩 기능 사용\n",
        "\n",
        "class Robot:\n",
        "    def greetings(self):\n",
        "        print(\"로봇입니다.\")\n",
        "\n",
        "class study_bot(Robot):\n",
        "    def greetings(self):\n",
        "        super().greetings()\n",
        "        # super()가 부모 클래스를 가리킴/ 부모의 것을 사용가능하게 함\n",
        "        print(\"공부하는 로봇입니다.\")\n",
        "\n",
        "study_bot1 = study_bot()\n",
        "study_bot1.greetings()\n"
      ],
      "metadata": {
        "colab": {
          "base_uri": "https://localhost:8080/"
        },
        "id": "SoAaCRNwJmUc",
        "outputId": "37621f3e-6ade-4949-cdd8-e1aa783abe01"
      },
      "execution_count": 58,
      "outputs": [
        {
          "output_type": "stream",
          "name": "stdout",
          "text": [
            "안녕\n",
            "공부하는 로봇입니다.\n"
          ]
        }
      ]
    },
    {
      "cell_type": "code",
      "source": [
        "# 부모의 속성(attribute) 가져오기\n",
        "class Robot:\n",
        "    def func1(self):\n",
        "        print(\"부모 클래스의 func1 실행\")\n",
        "        self.money =100\n",
        "\n",
        "# 부모 함수 실행한 후에 부모 속성을 가져올 수 있다.\n",
        "class Study_bot(Robot):\n",
        "    def func2(self):\n",
        "        print(\"자식 클래스의 func2 실행\")\n",
        "        self.book = 10\n",
        "\n",
        "study_bot1 = Study_bot()\n",
        "study_bot1.func1()\n",
        "#func1 을 물려받으려면 먼저 실행이 되어야 함\n",
        "# 실행이 되어야 self 주머니에 money 100을 담음\n",
        "# 그런 다음 Study_bot 이 money 물려받을 수 있음\n",
        "study_bot1.func2()\n",
        "print(study_bot1.money)\n",
        "print(study_bot1.book)\n"
      ],
      "metadata": {
        "colab": {
          "base_uri": "https://localhost:8080/"
        },
        "id": "t_AFsMYlKide",
        "outputId": "ea9b1a60-79a7-416a-d33f-2bf35145dd0c"
      },
      "execution_count": 60,
      "outputs": [
        {
          "output_type": "stream",
          "name": "stdout",
          "text": [
            "부모 클래스의 func1 실행\n",
            "자식 클래스의 func2 실행\n",
            "100\n",
            "10\n"
          ]
        }
      ]
    },
    {
      "cell_type": "code",
      "source": [
        "# 딥러닝 코드에서는 아래와 같은 코드를 많이 보게 됨\n",
        "# 부모/자식 클래스가 init 메서드가 있어서 인스턴스 만드는 동시에 실행됨\n",
        "# 하지만 클래스 각각이 실행되어 서로의 속성의 존재는 알 수 없음\n",
        "# super().__init__() 사용해서 해결\n",
        "\n",
        "class Robot:\n",
        "    def __init__(self):\n",
        "        print(\"부모 클래스의 init실행\")\n",
        "        self.money = 100\n",
        "#*********************************\n",
        "class Study_bot(Robot):\n",
        "    def __init__(self):\n",
        "        super().__init__()\n",
        "#*********************************\n",
        "        # 윗 박스 안의 부분의 습관적으로 짜야 함.\n",
        "        # 이 부분을 해주어야 money 상속됨\n",
        "        print(\"자식 클래스의 init실행\")\n",
        "        self.book = 10\n",
        "\n",
        "bot_parent = Robot()\n",
        "print(bot_parent.money)\n",
        "\n",
        "bot_child = Study_bot()\n",
        "print(bot_child.book)\n",
        "print(bot_child.money)\n",
        "#super().__init__() 코드 없이는 서로의 클래스의 속성의 존재를 모름"
      ],
      "metadata": {
        "colab": {
          "base_uri": "https://localhost:8080/"
        },
        "id": "lro1AW-HMXxp",
        "outputId": "fd418513-2157-4035-cfce-f57ae4ffb764"
      },
      "execution_count": 66,
      "outputs": [
        {
          "output_type": "stream",
          "name": "stdout",
          "text": [
            "부모 클래스의 init실행\n",
            "100\n",
            "부모 클래스의 init실행\n",
            "자식 클래스의 init실행\n",
            "10\n",
            "100\n"
          ]
        }
      ]
    },
    {
      "cell_type": "code",
      "source": [
        "# 이번에는 자식 class 의 __init__ 메서드를 없앰\n",
        "# 자식 class 실행했을 때 __init__이 없으면\n",
        "# 상속받은 부모 클래스에 init 이 자동 호출됨\n",
        "\n",
        "class Robot:\n",
        "    def __init__(self):\n",
        "        print(\"부모 클래스의 init실행\")\n",
        "        self.money = 100\n",
        "\n",
        "class Study_bot(Robot):\n",
        "    def func2(self):\n",
        "        print(\"자식 클래스의 init실행\")\n",
        "        self.book = 10\n",
        "\n",
        "bot1 = Study_bot()\n",
        "bot1.func2()\n",
        "print(bot1.money)\n",
        "print(bot1.book)\n",
        "#Study_bot 클래스에는 __init__이 없으므로\n",
        "#bot1.func2() 실행후 확인가능"
      ],
      "metadata": {
        "colab": {
          "base_uri": "https://localhost:8080/"
        },
        "id": "RP4vUk00NVn7",
        "outputId": "33fe8b09-e0af-449c-cff8-96cb6ba205b2"
      },
      "execution_count": 74,
      "outputs": [
        {
          "output_type": "stream",
          "name": "stdout",
          "text": [
            "부모 클래스의 init실행\n",
            "자식 클래스의 init실행\n",
            "100\n",
            "10\n"
          ]
        }
      ]
    },
    {
      "cell_type": "code",
      "source": [
        "# 두개의 클래스에서 상속받고 싶을 때\n",
        "class Robot:\n",
        "    def greeting(self):\n",
        "        print(\"로봇입니다.\")\n",
        "\n",
        "class Life:\n",
        "    def rest(self):\n",
        "        print(\"쉬기도 해요\")\n",
        "\n",
        "class Study_bot(Robot,Life):\n",
        "    def study(self):\n",
        "        print(\"공부하는 로봇입니다.\")\n",
        "\n",
        "study_bot = Study_bot()\n",
        "study_bot.greeting()\n",
        "study_bot.rest()\n",
        "study_bot.study()"
      ],
      "metadata": {
        "colab": {
          "base_uri": "https://localhost:8080/"
        },
        "id": "EPvDX7QmQjoy",
        "outputId": "6d6efcf4-e050-4810-8cac-ece0d0fecbfc"
      },
      "execution_count": 79,
      "outputs": [
        {
          "output_type": "stream",
          "name": "stdout",
          "text": [
            "로봇입니다.\n",
            "쉬기도 해요\n",
            "공부하는 로봇입니다.\n"
          ]
        }
      ]
    },
    {
      "cell_type": "code",
      "source": [
        "## 지양해야 할 애매한 다이아몬드 상속\n",
        "class A:\n",
        "    def greeting(self):\n",
        "        print(\"A\")\n",
        "\n",
        "class B(A):\n",
        "    def greeting(self):\n",
        "        print(\"B\")\n",
        "\n",
        "class C(A):\n",
        "    def greeting(self):\n",
        "        print(\"C\")\n",
        "\n",
        "class D(B,C):# 가장 왼쪽 것의 greeting을 사용함\n",
        "    def __init__(self):\n",
        "        print(\"D생성\")\n",
        "\n",
        "x=D()\n",
        "x.greeting()"
      ],
      "metadata": {
        "colab": {
          "base_uri": "https://localhost:8080/"
        },
        "id": "bfiymlzXSv9y",
        "outputId": "72fcf46b-046a-417d-fd16-634ba05f915f"
      },
      "execution_count": 82,
      "outputs": [
        {
          "output_type": "stream",
          "name": "stdout",
          "text": [
            "D생성\n",
            "B\n"
          ]
        }
      ]
    },
    {
      "cell_type": "markdown",
      "source": [
        "# 이터레이터"
      ],
      "metadata": {
        "id": "wbEZgu27VEPy"
      }
    },
    {
      "cell_type": "code",
      "source": [
        "a=[1,2,3]\n",
        "a_it = iter(a) # 리스트를 이터레이터로 바꿈\n",
        "print(type(a_it)) # 리스트_이터레이터 타입\n",
        "print(next(a_it)) # next로 하나씩 꺼내기\n",
        "print(next(a_it))\n",
        "print(next(a_it))"
      ],
      "metadata": {
        "colab": {
          "base_uri": "https://localhost:8080/"
        },
        "id": "PDgiIVtYUgNc",
        "outputId": "ebd1f1f2-31d3-4c6c-8c84-6d9539d3007e"
      },
      "execution_count": 85,
      "outputs": [
        {
          "output_type": "stream",
          "name": "stdout",
          "text": [
            "<class 'list_iterator'>\n",
            "1\n",
            "2\n",
            "3\n"
          ]
        }
      ]
    },
    {
      "cell_type": "code",
      "source": [
        "# for 문에서도 사용가능\n",
        "for i in iter([1,2,3]):\n",
        "    print(i)"
      ],
      "metadata": {
        "colab": {
          "base_uri": "https://localhost:8080/"
        },
        "id": "2pydwUR3V0ev",
        "outputId": "b7b13546-c02c-45ac-9e07-57a87a85154c"
      },
      "execution_count": 86,
      "outputs": [
        {
          "output_type": "stream",
          "name": "stdout",
          "text": [
            "1\n",
            "2\n",
            "3\n"
          ]
        }
      ]
    },
    {
      "cell_type": "code",
      "source": [
        "# 자주 사용하는 예시\n",
        "# 데이터가 많을 때 iter로 바꾸고, next 하면 한숟갈 떠 볼 수 있음\n",
        "# 리스트가 아닌 경우 iter로 바꿀 수도 있음\n",
        "a =[1,2,3]\n",
        "a_i=next(iter(a))\n",
        "print(a_i)"
      ],
      "metadata": {
        "colab": {
          "base_uri": "https://localhost:8080/"
        },
        "id": "eqMpVU5YWCRj",
        "outputId": "5c67ef09-682f-438a-82aa-a7442b14f601"
      },
      "execution_count": 87,
      "outputs": [
        {
          "output_type": "stream",
          "name": "stdout",
          "text": [
            "1\n"
          ]
        }
      ]
    },
    {
      "cell_type": "code",
      "source": [],
      "metadata": {
        "id": "O-F7bGfsWYI4"
      },
      "execution_count": null,
      "outputs": []
    }
  ]
}