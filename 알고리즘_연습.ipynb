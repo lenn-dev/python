{
  "nbformat": 4,
  "nbformat_minor": 0,
  "metadata": {
    "colab": {
      "provenance": [],
      "authorship_tag": "ABX9TyOyLvSaUWHevdT6Q5ZOTxHi",
      "include_colab_link": true
    },
    "kernelspec": {
      "name": "python3",
      "display_name": "Python 3"
    },
    "language_info": {
      "name": "python"
    }
  },
  "cells": [
    {
      "cell_type": "markdown",
      "metadata": {
        "id": "view-in-github",
        "colab_type": "text"
      },
      "source": [
        "<a href=\"https://colab.research.google.com/github/lenn-dev/python/blob/main/%EC%95%8C%EA%B3%A0%EB%A6%AC%EC%A6%98_%EC%97%B0%EC%8A%B5.ipynb\" target=\"_parent\"><img src=\"https://colab.research.google.com/assets/colab-badge.svg\" alt=\"Open In Colab\"/></a>"
      ]
    },
    {
      "cell_type": "markdown",
      "source": [
        "# 동적프로그래밍\n",
        "## 피보나치 수열 구하기\n",
        "첫 두 항이 1이고 그 다음 항부터는 앞의 두 항의 합으로 이루어지는 수열. 즉, 1, 1, 2, 3, 5, 8, 13, 21, ... 과 같이 진행\n"
      ],
      "metadata": {
        "id": "srkkvf8PEhwr"
      }
    },
    {
      "cell_type": "code",
      "execution_count": null,
      "metadata": {
        "id": "HqieTldXETg2"
      },
      "outputs": [],
      "source": [
        "# 단순 재귀 방식\n",
        "def fib_recursive(n):\n",
        "    if n <= 1:\n",
        "        return n\n",
        "    return fib_recursive(n-1) + fib_recursive(n-2)"
      ]
    },
    {
      "cell_type": "markdown",
      "source": [
        "이 코드는 n번째 피보나치 수를 구할 때, 항상 각 호출마다 두 번씩 재귀 호출을 하게 된다.\n",
        "\n",
        "fib_recursive(n-1)과 fib_recursive(n-2)를 호출한다.\n",
        "\n",
        "즉, 트리 형태로 호출이 분기되며, 깊이가 n인 이진 트리와 유사하다.\n",
        "\n",
        "각 단계마다 호출 횟수가 두 배로 늘어나므로, 전체 호출 횟수는 $2^n$에 비례한다. 이는 중복 계산이 매우 많아 매우 비효율 적임을 의미한다.\n",
        "\n",
        "시간 복잡도는 $O(2^n)$ 이다.\n",
        "\n",
        "\n",
        "---\n",
        "\n",
        "\n"
      ],
      "metadata": {
        "id": "W65OhAdaFAdy"
      }
    },
    {
      "cell_type": "markdown",
      "source": [
        "# 동적 프로그래밍(DP) 방식\n",
        "DP 방식에서는 각 피보나치 수를 한 번만 계산한다.\n",
        "F(1),F(2),...,F(n)을 차례로 한 번씩 계산하므로, 총 n번의 연산만 필요하다. 중복 계산이 없기 때문에 매우 효율적이다.\n",
        "\n",
        "## 메모이제이션\n",
        "메모이제이션(Memoization)은 동일한 계산을 반복해야 할 때, 이전에 계산한 값을 메모리에 저장해두고, 같은 입력이 들어오면 저장된 값을 바로 사용하는 최적화 기법이다.\n",
        "\n",
        "이 방법은 **동적 프로그래밍(Dynamic Programming, DP)**에서 자주 활용되며, 특히 재귀적으로 문제를 풀 때 중복되는 계산이 많을 때 효율적으로 동작한다. 예를 들어, 피보나치 수열 계산처럼 같은 값을 여러 번 계산해야 할 때, 이미 계산한 값을 배열(또는 딕셔너리 등)에 저장해두면, 다음에 같은 값을 요청할 때 저장된 값을 바로 반환해주어 불필요한 연산을 줄이고 속도를 크게 향상시킬 수 있다.\n",
        "\n",
        "즉, **메모이제이션은 \"계산 결과를 저장해서 여러 번 계산하지 않도록 하는 것\"**으로, 재귀 함수 호출 시 성능 문제를 해결하는 데 매우 유용하다\n"
      ],
      "metadata": {
        "id": "_OYIQa3gLO5P"
      }
    },
    {
      "cell_type": "code",
      "source": [
        " # (1) Top-Down(명시적 메모이제이션, 재귀 + 저장): 함수가 호출될 때마다 저장된 값을 사용\n",
        "\n",
        "# 피보나치 수를 저장할 리스트를 0으로 초기화 (인덱스 0~n까지)\n",
        "memo = [0] * (n + 1)\n",
        "\n",
        "def fib_memo(n):  # n번째 피보나치 수를 구하는 함수 정의\n",
        "    if n <= 1:    # n이 0 또는 1이면, 그 값이 곧 피보나치 수이므로 반환\n",
        "        return n\n",
        "    if memo[n] != 0:  # 이미 계산한 값이 있다면, 저장된 값을 바로 반환 (중복 계산 방지)\n",
        "        return memo[n]\n",
        "    # 아직 계산하지 않은 경우, 재귀적으로 두 이전 값을 더해서 저장\n",
        "    memo[n] = fib_memo(n - 1) + fib_memo(n - 2)\n",
        "    return memo[n]  # 계산한 값을 반환\n"
      ],
      "metadata": {
        "id": "NdAloJHnFS3r"
      },
      "execution_count": null,
      "outputs": []
    },
    {
      "cell_type": "markdown",
      "source": [
        "이 방식은 이미 계산한 값을 memo 배열에 저장해서 중복 계산을 피한다. 시간 복잡도는 $O(n)$"
      ],
      "metadata": {
        "id": "R1jkWryNFR7C"
      }
    },
    {
      "cell_type": "code",
      "source": [
        " #(2) Bottom-Up(암묵적 메모이제이션,반복문 + 저장): 작은 값부터 차례로 배열에 저장\n",
        "def fib_dp(n):  # n번째 피보나치 수를 구하는 함수 정의\n",
        "    if n <= 1:  # n이 0 또는 1이면, 그 값이 곧 피보나치 수이므로 반환\n",
        "        return n\n",
        "    dp = [0] * (n + 1)  # 피보나치 수를 저장할 리스트를 0으로 초기화 (인덱스 0~n까지)\n",
        "    dp[1] = 1           # 첫 번째 피보나치 수는 1로 초기화\n",
        "    for i in range(2, n + 1):  # 2부터 n까지 반복하며\n",
        "        dp[i] = dp[i - 1] + dp[i - 2]  # 이전 두 항의 합을 현재 항에 저장\n",
        "    return dp[n]  # n번째 피보나치 수를 반환\n"
      ],
      "metadata": {
        "id": "o-gpVkiuFxGh"
      },
      "execution_count": null,
      "outputs": []
    },
    {
      "cell_type": "markdown",
      "source": [
        "작은 문제부터 차례로 값을 구해 저장하며, 반복문을 사용해 중복 계산 없이 효율적으로 값을 구한다. 시간 복잡도는 $O(n)$"
      ],
      "metadata": {
        "id": "dF26Clo4F_uI"
      }
    },
    {
      "cell_type": "markdown",
      "source": [
        "|구분|\t단순 재귀|\t동적 프로그래밍(DP)|\n",
        "|--|--|--|\n",
        "|코드 구조|\t자기 자신만 반복 호출|\t계산 결과를 저장하여 재활용|\n",
        "|중복 계산|\t많음|\t없음|\n",
        "|시간 복잡도|$O(2^n)$| $O(n)$|\n",
        "|효율성\t|낮음|\t높음|\n",
        "|메모리 사용|\t호출 스택 증가(스택 오버플로우 가능)|\t배열 등 추가 저장공간 필요|"
      ],
      "metadata": {
        "id": "VtkjrCj3I3RL"
      }
    }
  ]
}