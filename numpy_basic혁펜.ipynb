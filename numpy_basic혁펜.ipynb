{
  "nbformat": 4,
  "nbformat_minor": 0,
  "metadata": {
    "colab": {
      "provenance": [],
      "authorship_tag": "ABX9TyPy4pc5ohK0Sf6EDnnBOCkO",
      "include_colab_link": true
    },
    "kernelspec": {
      "name": "python3",
      "display_name": "Python 3"
    },
    "language_info": {
      "name": "python"
    }
  },
  "cells": [
    {
      "cell_type": "markdown",
      "metadata": {
        "id": "view-in-github",
        "colab_type": "text"
      },
      "source": [
        "<a href=\"https://colab.research.google.com/github/lenn-dev/python/blob/main/numpy_basic%ED%98%81%ED%8E%9C.ipynb\" target=\"_parent\"><img src=\"https://colab.research.google.com/assets/colab-badge.svg\" alt=\"Open In Colab\"/></a>"
      ]
    },
    {
      "cell_type": "markdown",
      "source": [
        "모듈과 패키지\n",
        "1. 모듈은 변수, 함수, 클래스를 담고 있는 파일 (.py)\n",
        "2. 패키지는 여러 모듈을 묶은 것 (폴더)\n",
        "\n",
        "- import 모듈1, 모듈2\n",
        "- 모듈.변수\n",
        "- 모듈.함수()\n",
        "- 모듈.클래스()"
      ],
      "metadata": {
        "id": "TEfvmYW7pW7L"
      }
    },
    {
      "cell_type": "code",
      "execution_count": 2,
      "metadata": {
        "colab": {
          "base_uri": "https://localhost:8080/"
        },
        "id": "KCWuD2RGmW9y",
        "outputId": "65a4533f-0d03-4c57-d63e-054700c685a7"
      },
      "outputs": [
        {
          "output_type": "stream",
          "name": "stdout",
          "text": [
            "3.141592653589793\n",
            "2.0\n"
          ]
        }
      ],
      "source": [
        "import math\n",
        "print(math.pi)\n",
        "print(math.sqrt(4))"
      ]
    },
    {
      "cell_type": "code",
      "source": [
        "import math as m\n",
        "print(m.pi)\n",
        "print(m.sqrt(4))"
      ],
      "metadata": {
        "colab": {
          "base_uri": "https://localhost:8080/"
        },
        "id": "D9dZPvTZ9SX1",
        "outputId": "9345f75f-5b6f-49a0-8ef8-1c0b8f349b98"
      },
      "execution_count": 3,
      "outputs": [
        {
          "output_type": "stream",
          "name": "stdout",
          "text": [
            "3.141592653589793\n",
            "2.0\n"
          ]
        }
      ]
    },
    {
      "cell_type": "code",
      "source": [
        "from math import pi, sqrt\n",
        "print(pi)\n",
        "print(sqrt(4))"
      ],
      "metadata": {
        "colab": {
          "base_uri": "https://localhost:8080/"
        },
        "id": "RJ6F8_xr9Yx-",
        "outputId": "0ff07c02-4e66-47ba-cedf-ff0670c47541"
      },
      "execution_count": 4,
      "outputs": [
        {
          "output_type": "stream",
          "name": "stdout",
          "text": [
            "3.141592653589793\n",
            "2.0\n"
          ]
        }
      ]
    },
    {
      "cell_type": "code",
      "source": [
        "from math import *\n",
        "print(pi)\n",
        "print(sqrt(4))"
      ],
      "metadata": {
        "colab": {
          "base_uri": "https://localhost:8080/"
        },
        "id": "RN6xaQ9W9Ywt",
        "outputId": "d5d46e31-da70-4789-baf5-2527aaf8783b"
      },
      "execution_count": 5,
      "outputs": [
        {
          "output_type": "stream",
          "name": "stdout",
          "text": [
            "3.141592653589793\n",
            "2.0\n"
          ]
        }
      ]
    },
    {
      "cell_type": "code",
      "source": [
        "# import 패키지\n",
        "# import 패키지.모듈\n",
        "# import 패키지.모듈1, 패키지.모듈2\n",
        "# 패키지.모듈.변수\n",
        "# 패키지.모듈.함수()\n",
        "# 패키지.모듈.클래스()"
      ],
      "metadata": {
        "id": "oAyhMBcl91jX"
      },
      "execution_count": 6,
      "outputs": []
    },
    {
      "cell_type": "code",
      "source": [
        "import numpy as np # numpy는 라이브러리(패키지와 모듈을 모아놓음) numerical pyhon\n",
        "a=np.array([1,2,3])\n",
        "print(a)\n",
        "type(np.array)"
      ],
      "metadata": {
        "colab": {
          "base_uri": "https://localhost:8080/"
        },
        "id": "TarSO7u9_FnR",
        "outputId": "99f854b6-b0a1-4c5f-820e-4ea4bb606305"
      },
      "execution_count": 7,
      "outputs": [
        {
          "output_type": "stream",
          "name": "stdout",
          "text": [
            "[1 2 3]\n"
          ]
        },
        {
          "output_type": "execute_result",
          "data": {
            "text/plain": [
              "builtin_function_or_method"
            ]
          },
          "metadata": {},
          "execution_count": 7
        }
      ]
    },
    {
      "cell_type": "code",
      "source": [
        "import numpy.random as r\n",
        "print(r.randn(3,3)) #(3,3)은 3행3열의 배열(array) 생성\n",
        "# 이 배열은 표준정규분포 (standard normal distribution)를 따르는 난수들로 채워짐\n",
        "# 표준정규분포란 평균 0,표준편차가 1 인 분포이다.\n",
        "# 즉, 각각의 값은 N(0,1)분포에서 임의로 뽑은 값"
      ],
      "metadata": {
        "colab": {
          "base_uri": "https://localhost:8080/"
        },
        "id": "Vsuaq4r3_4k1",
        "outputId": "207d84cb-1726-4ffc-d0d0-f2f606ce3ae7"
      },
      "execution_count": 8,
      "outputs": [
        {
          "output_type": "stream",
          "name": "stdout",
          "text": [
            "[[-0.76182654  1.55051883 -0.51071707]\n",
            " [-1.39033901  1.4244665  -0.63041667]\n",
            " [-0.36715591  0.35374942 -0.99847975]]\n"
          ]
        }
      ]
    },
    {
      "cell_type": "markdown",
      "source": [
        "- iid(independent and identically distribued) 를 따르게끔\n",
        "- 즉, 배열안의 각 원소들은 서로 독립적이며, 같은 분포에서 나왔다는 뜻\n",
        "- 다시말해, 모든 값은 동일한 표준 정규분포 N(0,1)에서 독립적으로 추출된 것이다.\n",
        "- 실행결과는 매번 달라진다.\n",
        "- 무작위 데이터(random data)를 생성해 다양한 실험,테스트,시뮬레이션 하기 위한 것\n",
        "- 머신러닝 모델에 입력하기 전에 작동 테스트용\n",
        "- 확률적현상(예:주식가격변화, 센서노이즈, 물리모델 등)을 모델링 할 때 무작위 숫자 필요\n",
        "- mesured_value = true_value + r.randn(3,3)*noise_level\n",
        "- 통계개념(예:중심극한정리, 표본분포등)을 설명, 검증할 때 무작위 표본 필요\n",
        "- 머신러닝/딥러닝 초기화: 신경망의 가중치를 무작위로 초기화할 때 자주 쓰임,\n",
        "- 특히 표준 정규분포는 기초적인 초기화 방법중 하나"
      ],
      "metadata": {
        "id": "3SKd7-ReFWgU"
      }
    },
    {
      "cell_type": "code",
      "source": [
        "import numpy.random as nr\n",
        "print(nr.randn(3,3))"
      ],
      "metadata": {
        "colab": {
          "base_uri": "https://localhost:8080/"
        },
        "id": "0cw1WhdK_4j4",
        "outputId": "ce7c0735-7c35-4969-b48b-a37763618e8f"
      },
      "execution_count": 9,
      "outputs": [
        {
          "output_type": "stream",
          "name": "stdout",
          "text": [
            "[[-1.1532839   0.4108394   0.09774033]\n",
            " [ 0.41769429 -0.68575554 -0.10007978]\n",
            " [-0.70380772 -0.51448357  0.39873182]]\n"
          ]
        }
      ]
    },
    {
      "cell_type": "code",
      "source": [
        "from numpy.random import randn\n",
        "print(randn(3,3))"
      ],
      "metadata": {
        "colab": {
          "base_uri": "https://localhost:8080/"
        },
        "id": "0ZUxg5nSGF1n",
        "outputId": "692ac934-0360-480c-eaaa-e58f4dcf987c"
      },
      "execution_count": 10,
      "outputs": [
        {
          "output_type": "stream",
          "name": "stdout",
          "text": [
            "[[ 0.37639064 -0.22732335  1.06357086]\n",
            " [-0.23769913 -1.36364036  1.61984313]\n",
            " [ 0.78193499 -0.37285048  0.42882697]]\n"
          ]
        }
      ]
    },
    {
      "cell_type": "code",
      "source": [
        "from numpy.random import *\n",
        "print(rand(3,3)) #uniform distribution : 0과 1사이에서 균등한 분포"
      ],
      "metadata": {
        "id": "cBaH4x0DGThk",
        "colab": {
          "base_uri": "https://localhost:8080/"
        },
        "outputId": "59b1a241-545f-4861-f56b-658f6e5c5538"
      },
      "execution_count": 11,
      "outputs": [
        {
          "output_type": "stream",
          "name": "stdout",
          "text": [
            "[[0.22199899 0.48493789 0.06355983]\n",
            " [0.4822433  0.5711356  0.07874747]\n",
            " [0.2468484  0.94786676 0.69441181]]\n"
          ]
        }
      ]
    },
    {
      "cell_type": "code",
      "source": [
        "from numpy.random import randn as rn\n",
        "print(rn(3,3))"
      ],
      "metadata": {
        "colab": {
          "base_uri": "https://localhost:8080/"
        },
        "id": "FWIAlOZ3IOLS",
        "outputId": "4a5b447f-d77e-4656-d839-da842352f365"
      },
      "execution_count": 12,
      "outputs": [
        {
          "output_type": "stream",
          "name": "stdout",
          "text": [
            "[[ 0.98847794 -0.3586966  -0.89762679]\n",
            " [ 0.75685394 -0.06600895 -0.49209751]\n",
            " [-0.27164857  0.44145234  0.5704337 ]]\n"
          ]
        }
      ]
    },
    {
      "cell_type": "code",
      "source": [
        "from numpy.random import randn as rn, rand as r\n",
        "print(rn(3,3))\n",
        "print(r(3,3))"
      ],
      "metadata": {
        "colab": {
          "base_uri": "https://localhost:8080/"
        },
        "id": "rmVp31J1IxEg",
        "outputId": "6bbe05ab-de47-4bc1-d065-ab21652ec4c2"
      },
      "execution_count": 13,
      "outputs": [
        {
          "output_type": "stream",
          "name": "stdout",
          "text": [
            "[[-0.52178449  0.47749074  1.20627301]\n",
            " [-0.36264548  1.6743478   0.48929997]\n",
            " [-1.46426905 -0.40766704  1.93183183]]\n",
            "[[0.90322671 0.72365486 0.61650792]\n",
            " [0.06452138 0.15597343 0.94312984]\n",
            " [0.71014893 0.12190924 0.89429635]]\n"
          ]
        }
      ]
    },
    {
      "cell_type": "markdown",
      "source": [
        "# numpy 본격적으로"
      ],
      "metadata": {
        "id": "MPpmZSEZJZDy"
      }
    },
    {
      "cell_type": "code",
      "source": [
        "import numpy as np\n",
        "a=np.array([1,2,3,4])# list 가 입력으로 들어가는 함수\n",
        "print(a)\n",
        "print(type(a))\n",
        "print(a.dtype) # data type\n",
        "print(a.ndim)\n",
        "print(a.shape) # 각 차원 원소 갯수\n",
        "print(a[0]) # 1로 출력됨\n",
        "print(type(a[0]))\n",
        "\n",
        "# 하나라도 실수이면 자동으로 모두 실수타입으로 바꿔줌\n",
        "b=np.array([1,2, 3.1, 4]) # 하나만 소수점으로 바꿈\n",
        "print(b)\n",
        "print(b.dtype) # 리스트 안에 하나만 실수이면 다 실수타입으로 바껴서 각 숫자당 64비트로\n",
        "print(b[0]) # 1.0이라고 출력됨 나옴\n",
        "print(type(b[0])) # 리스트 첫번째원소 1도 float이라고 나옴\n"
      ],
      "metadata": {
        "colab": {
          "base_uri": "https://localhost:8080/"
        },
        "id": "CcCTcJNlJVy2",
        "outputId": "6e4f2ca4-4bd6-4c9e-ce00-53b87061a2a6"
      },
      "execution_count": 14,
      "outputs": [
        {
          "output_type": "stream",
          "name": "stdout",
          "text": [
            "[1 2 3 4]\n",
            "<class 'numpy.ndarray'>\n",
            "int64\n",
            "1\n",
            "(4,)\n",
            "1\n",
            "<class 'numpy.int64'>\n",
            "[1.  2.  3.1 4. ]\n",
            "float64\n",
            "1.0\n",
            "<class 'numpy.float64'>\n"
          ]
        }
      ]
    },
    {
      "cell_type": "code",
      "source": [
        "A=np.array([[1,2],[3,4]])\n",
        "#A=np.array([[1,2],[3,4,5]]) # 갯수가 다름\n",
        "# 리스트와 달리 이제는 행렬이라 각 행에 해당하는 숫자의 갯수가 같아야 함\n",
        "print(A)\n",
        "print(A.shape) # 2행2열  제일 많이 씀\n",
        "print(A.ndim) # 차원의 수, 대괄호가 몇개인가, 2차원\n",
        "# 차원이 묶여있다. 2차원 공간에 사이즈가 같은 큐브가 묶여있다.\n",
        "# 3차원은 묶여있는것이 깊이있게 쌓여있다.\n",
        "# 4차원은 3차원으로 쌓여있는 것이 여러개인 것이 주머니에 담겨있다.\n",
        "# 5차원은 가방에 그런 주머니가 여러개 있다.\n",
        "# 6차원은 방 안에 그런 가방이 여러개 있다.\n",
        "# 7차원은 그 방이 여러개 있다.\n",
        "print(A.size) # 전체 성분의 수 == A.shape[0]* A.shape[1]\n",
        "# 2행 2열이니 2*2 한 것인데, 곱하기로 표현하기 번거로우니 size로 함\n"
      ],
      "metadata": {
        "colab": {
          "base_uri": "https://localhost:8080/"
        },
        "id": "Yjp2XRVkOanB",
        "outputId": "902b537e-e1af-420c-8ffa-9691425d4d79"
      },
      "execution_count": 15,
      "outputs": [
        {
          "output_type": "stream",
          "name": "stdout",
          "text": [
            "[[1 2]\n",
            " [3 4]]\n",
            "(2, 2)\n",
            "2\n",
            "4\n"
          ]
        }
      ]
    },
    {
      "cell_type": "code",
      "source": [
        "#0으로 초기화\n",
        "print(np.zeros(10)) # 10 벡터 생성\n",
        "print(np.zeros_like(A)) # A의 사이즈를 그대로 가져와서 0으로 채운 행렬 만들어줌\n",
        "print(np.ones_like(A))\n",
        "print(np.zeros((3,4))) # 3행4열 행렬로 만들어 주고 싶을 때는 리스트나 튜플로 묶어 하나로 줘야 함\n",
        "# np.zeros(3,3)은 안됨\n",
        "\n",
        "# torch 에서는 됨.\n",
        "import torch\n",
        "print(torch.zeros(3,3))\n",
        "\n",
        "print(np.arange(3,10,2)) # range랑 같은데 array이로 만들어줌\n",
        "print(np.arange(0,1,0.1)) # 0부터 1미만 0.1 간격\n",
        "print(np.linspace(0,1,10, endpoint=False)) # 0부터 1 포함 10개로 선형적으로 쪼갬\n",
        "# 1을 포함하지 않는 endpoint=False 조건넣으면 위와 같은 결과가 나옴"
      ],
      "metadata": {
        "colab": {
          "base_uri": "https://localhost:8080/"
        },
        "id": "TnxW63uyTSnN",
        "outputId": "205c0ddd-72a4-4bc7-9aac-0bdc32454154"
      },
      "execution_count": 16,
      "outputs": [
        {
          "output_type": "stream",
          "name": "stdout",
          "text": [
            "[0. 0. 0. 0. 0. 0. 0. 0. 0. 0.]\n",
            "[[0 0]\n",
            " [0 0]]\n",
            "[[1 1]\n",
            " [1 1]]\n",
            "[[0. 0. 0. 0.]\n",
            " [0. 0. 0. 0.]\n",
            " [0. 0. 0. 0.]]\n",
            "tensor([[0., 0., 0.],\n",
            "        [0., 0., 0.],\n",
            "        [0., 0., 0.]])\n",
            "[3 5 7 9]\n",
            "[0.  0.1 0.2 0.3 0.4 0.5 0.6 0.7 0.8 0.9]\n",
            "[0.  0.1 0.2 0.3 0.4 0.5 0.6 0.7 0.8 0.9]\n"
          ]
        }
      ]
    },
    {
      "cell_type": "code",
      "source": [
        "# 벡터의 합\n",
        "a=np.array([1,2,3])\n",
        "b=np.array([4,5,6])\n",
        "c= a+b\n",
        "print(c)\n",
        "# 리스트는 값을 쌓아주기만 함\n",
        "[1,2,3]+[4,5,6]"
      ],
      "metadata": {
        "colab": {
          "base_uri": "https://localhost:8080/"
        },
        "id": "rVwGppS8rmNs",
        "outputId": "a87a9c44-02f9-4c25-ec26-8f46e4856285"
      },
      "execution_count": 17,
      "outputs": [
        {
          "output_type": "stream",
          "name": "stdout",
          "text": [
            "[5 7 9]\n"
          ]
        },
        {
          "output_type": "execute_result",
          "data": {
            "text/plain": [
              "[1, 2, 3, 4, 5, 6]"
            ]
          },
          "metadata": {},
          "execution_count": 17
        }
      ]
    },
    {
      "cell_type": "code",
      "source": [
        "# np.array를 이용한 행렬 만들기 -> 리스트 속에 리스트\n",
        "A=np.array([[1,2,3],[4,5,6]])\n",
        "B=np.array([[1,2,3],[4,5,6]])\n",
        "print(A+B)\n",
        "print(A-B)\n",
        "print(A*B) # 곱셉은? 성분끼리의 곱 (Hadamard product)\n",
        "print(A/B) # 나누기? 성분끼리의 나누기 (이 경우 정사각행렬이 아니라 역행렬이 존재하지도 않음)\n",
        "print(B**2) # 제곱? 성분에 대한 제곱\n"
      ],
      "metadata": {
        "colab": {
          "base_uri": "https://localhost:8080/"
        },
        "id": "z-mYwwsDsiTx",
        "outputId": "966f8bcb-87d7-4a7d-90c8-8523650801a4"
      },
      "execution_count": 18,
      "outputs": [
        {
          "output_type": "stream",
          "name": "stdout",
          "text": [
            "[[ 2  4  6]\n",
            " [ 8 10 12]]\n",
            "[[0 0 0]\n",
            " [0 0 0]]\n",
            "[[ 1  4  9]\n",
            " [16 25 36]]\n",
            "[[1. 1. 1.]\n",
            " [1. 1. 1.]]\n",
            "[[ 1  4  9]\n",
            " [16 25 36]]\n"
          ]
        }
      ]
    },
    {
      "cell_type": "code",
      "source": [
        "# 행렬곱\n",
        "A=np.array([[1,2],[3,4]])\n",
        "B=np.array([[1,2],[3,4]])\n",
        "print(A*B)\n",
        "#print(np.matmul(A,B)) # 행렬곱\n",
        "print(A@B) # 행렬곱"
      ],
      "metadata": {
        "id": "G8GkjlKMP59b",
        "colab": {
          "base_uri": "https://localhost:8080/"
        },
        "outputId": "9eca8b50-5992-4793-abe6-792efaa1f5aa"
      },
      "execution_count": 19,
      "outputs": [
        {
          "output_type": "stream",
          "name": "stdout",
          "text": [
            "[[ 1  4]\n",
            " [ 9 16]]\n",
            "[[ 7 10]\n",
            " [15 22]]\n"
          ]
        }
      ]
    },
    {
      "cell_type": "code",
      "source": [
        "#numpy 의 인덱싱과 슬라이싱: 리스트와 차이 없음\n",
        "a=np.array([1,2,3,4])\n",
        "print(a[0])\n",
        "print(a[-1])\n",
        "print(a[1:3])\n",
        "print(a[1:])\n",
        "print(a[:3])\n",
        "print(a[:])"
      ],
      "metadata": {
        "colab": {
          "base_uri": "https://localhost:8080/"
        },
        "id": "J-sBM3cyzvyF",
        "outputId": "5b1cf54d-a8c2-415f-ae21-26d32641e7ba"
      },
      "execution_count": 20,
      "outputs": [
        {
          "output_type": "stream",
          "name": "stdout",
          "text": [
            "1\n",
            "4\n",
            "[2 3]\n",
            "[2 3 4]\n",
            "[1 2 3]\n",
            "[1 2 3 4]\n"
          ]
        }
      ]
    },
    {
      "cell_type": "code",
      "source": [
        "# 행렬에 대한 인덱싱 슬라이싱: 리스트와 차이점\n",
        "A=np.array([[1,2,3],[4,5,6],[7,8,9]])\n",
        "print(A[0])\n",
        "print(A[-1])\n",
        "print(A[1:])\n",
        "print(A[:])\n",
        "print(A[0][2])\n",
        "print(A[0,2]) # 콤마로 해도 numpy에서는 지원해줌 (리스트에선 안됨)\n",
        "print(A[0,])\n",
        "print(A[0,:]) #위와 같음\n",
        "print(A[0,0:3:2]) # 첫번째 행, 열은 0부터3미만까지 2간격\n",
        "print(A[:,0])\n",
        "print(A[:,2])"
      ],
      "metadata": {
        "colab": {
          "base_uri": "https://localhost:8080/"
        },
        "id": "n4x8gt6X-peb",
        "outputId": "6cdc8652-5de7-4321-c1fb-e2e798687dc6"
      },
      "execution_count": 21,
      "outputs": [
        {
          "output_type": "stream",
          "name": "stdout",
          "text": [
            "[1 2 3]\n",
            "[7 8 9]\n",
            "[[4 5 6]\n",
            " [7 8 9]]\n",
            "[[1 2 3]\n",
            " [4 5 6]\n",
            " [7 8 9]]\n",
            "3\n",
            "3\n",
            "[1 2 3]\n",
            "[1 2 3]\n",
            "[1 3]\n",
            "[1 4 7]\n",
            "[3 6 9]\n"
          ]
        }
      ]
    },
    {
      "cell_type": "code",
      "source": [
        "# boolean 인덱싱\n",
        "# a 리스트의 3을 100으로 바꾸고 싶을 때\n",
        "a = [1,2,3,4]\n",
        "a == 3 # 이런 표현은 a리스트와 3이 같냐고 묻는것이므로 의도한 바가 아님\n",
        "\n",
        "A=np.array([[1,2,3,4],[3,5,6,4]])\n",
        "print(A==3) # 리스트와 달리 각 요소에 대해 비교해줌\n",
        "# True,False 가 담긴 행렬로 인뎅싱 가능\n",
        "# 인뎅싱하는 []대괄호 안에 boolean 을 넣어주면 됨\n",
        "A[A==3]=100\n",
        "print(A)\n",
        "\n",
        "A=np.array([[1,2],[3,4],[5,6],[7,8]])\n",
        "B=np.array([True,False,True,False])\n",
        "print(A[B])\n",
        "\n",
        "b=[True,False,True,False] # 리스트여도 같은 결과\n",
        "print(A[b])"
      ],
      "metadata": {
        "colab": {
          "base_uri": "https://localhost:8080/"
        },
        "id": "H_Wq0LLr_I7X",
        "outputId": "68432256-bd6b-4752-a922-c624b7d31a28"
      },
      "execution_count": 22,
      "outputs": [
        {
          "output_type": "stream",
          "name": "stdout",
          "text": [
            "[[False False  True False]\n",
            " [ True False False False]]\n",
            "[[  1   2 100   4]\n",
            " [100   5   6   4]]\n",
            "[[1 2]\n",
            " [5 6]]\n",
            "[[1 2]\n",
            " [5 6]]\n"
          ]
        }
      ]
    },
    {
      "cell_type": "code",
      "source": [
        "# 3차원 행렬 인덱싱\n",
        "A=np.array([[[0,1,2,3],[4,5,6,7],[8,9,10,11]],\n",
        "            [[12,13,14,15],[16,17,18,19],[20,21,22,23]]])\n",
        "\n",
        "print(A)\n",
        "print(A.shape) #3행4열짜리\n",
        "print(A[0,1,2])"
      ],
      "metadata": {
        "colab": {
          "base_uri": "https://localhost:8080/"
        },
        "id": "yXINzluOBA80",
        "outputId": "62b78583-25b0-4f26-f693-997500fcee66"
      },
      "execution_count": 23,
      "outputs": [
        {
          "output_type": "stream",
          "name": "stdout",
          "text": [
            "[[[ 0  1  2  3]\n",
            "  [ 4  5  6  7]\n",
            "  [ 8  9 10 11]]\n",
            "\n",
            " [[12 13 14 15]\n",
            "  [16 17 18 19]\n",
            "  [20 21 22 23]]]\n",
            "(2, 3, 4)\n",
            "6\n"
          ]
        }
      ]
    },
    {
      "cell_type": "code",
      "source": [
        "# numpy 의 여러 함수들\n",
        "A=np.random.randn(3,3) #zeros는 튜플로 줘야 하는데 여긴 튜플로 안줘도 됨\n",
        "B=np.random.rand(3,3)\n",
        "print(A)\n",
        "#print(B)\n",
        "# boolean 조건문 복습\n",
        "print(A[A[:,0]<0,:]) # 0번째 열이 음수인 행을 가져옴"
      ],
      "metadata": {
        "colab": {
          "base_uri": "https://localhost:8080/"
        },
        "id": "hTsdSckWGyvP",
        "outputId": "255b8384-5654-4bdf-8fb0-adb09b1be88f"
      },
      "execution_count": 24,
      "outputs": [
        {
          "output_type": "stream",
          "name": "stdout",
          "text": [
            "[[ 1.86295353  0.28136265 -0.02125416]\n",
            " [-0.75248232  0.25433016  1.15463725]\n",
            " [ 2.17518713 -1.23498995 -0.30251784]]\n",
            "[[-0.75248232  0.25433016  1.15463725]]\n"
          ]
        }
      ]
    },
    {
      "cell_type": "code",
      "source": [
        "A=np.random.randn(3,3)\n",
        "print(A)\n",
        "print(np.abs(A)) # 절대값\n",
        "print(np.sqrt(np.abs(A)))\n",
        "print(np.exp(A))\n",
        "print(np.log(np.abs(A))) # 로그도 음수 들어가면 안되니 절대값먼저 하고 로그\n",
        "print(np.exp(1)) # = e^1\n",
        "print(np.log(np.exp(1)))\n",
        "print(np.log2(2))\n",
        "print(np.log10(10))\n",
        "print(np.round(A)) # 반올림\n",
        "print(np.round(A,2)) # 소숫점 둘째자리까지 올림\n",
        "print(np.floor(A)) # 내림\n",
        "print(np.ceil(A)) # 올림"
      ],
      "metadata": {
        "colab": {
          "base_uri": "https://localhost:8080/"
        },
        "id": "uiQnW92TIP-n",
        "outputId": "0f8d7eac-d1d5-46b6-d144-575f48093235"
      },
      "execution_count": 25,
      "outputs": [
        {
          "output_type": "stream",
          "name": "stdout",
          "text": [
            "[[-1.21449849  2.02985196 -0.70014622]\n",
            " [ 0.93298196  0.40034313  0.61072758]\n",
            " [ 0.68324945  0.75648366 -0.61089972]]\n",
            "[[1.21449849 2.02985196 0.70014622]\n",
            " [0.93298196 0.40034313 0.61072758]\n",
            " [0.68324945 0.75648366 0.61089972]]\n",
            "[[1.10204287 1.42472873 0.83674741]\n",
            " [0.96590991 0.63272674 0.78149061]\n",
            " [0.82658905 0.86976069 0.78160074]]\n",
            "[[0.29685885 7.61295924 0.4965127 ]\n",
            " [2.54207827 1.49233668 1.84177094]\n",
            " [1.98030219 2.13077052 0.54286223]]\n",
            "[[ 0.19433123  0.70796286 -0.35646608]\n",
            " [-0.06936941 -0.91543327 -0.49310428]\n",
            " [-0.38089526 -0.27907434 -0.49282246]]\n",
            "2.718281828459045\n",
            "1.0\n",
            "1.0\n",
            "1.0\n",
            "[[-1.  2. -1.]\n",
            " [ 1.  0.  1.]\n",
            " [ 1.  1. -1.]]\n",
            "[[-1.21  2.03 -0.7 ]\n",
            " [ 0.93  0.4   0.61]\n",
            " [ 0.68  0.76 -0.61]]\n",
            "[[-2.  2. -1.]\n",
            " [ 0.  0.  0.]\n",
            " [ 0.  0. -1.]]\n",
            "[[-1.  3. -0.]\n",
            " [ 1.  1.  1.]\n",
            " [ 1.  1. -0.]]\n"
          ]
        }
      ]
    },
    {
      "cell_type": "code",
      "source": [
        "# numpy 안의 sin,cos,tan 과 pi\n",
        "print(np.sin(np.pi/6))\n",
        "print(np.cos(np.pi/6))\n",
        "print(np.tan(np.pi/6))\n",
        "print(np.tanh(-10))"
      ],
      "metadata": {
        "colab": {
          "base_uri": "https://localhost:8080/"
        },
        "id": "Qk6G9BzaOpK5",
        "outputId": "96895a6c-570c-4f7e-8c6d-98404a2883a3"
      },
      "execution_count": 26,
      "outputs": [
        {
          "output_type": "stream",
          "name": "stdout",
          "text": [
            "0.49999999999999994\n",
            "0.8660254037844387\n",
            "0.5773502691896257\n",
            "-0.9999999958776927\n"
          ]
        }
      ]
    },
    {
      "cell_type": "code",
      "source": [
        "#np.nan # not a number\n",
        "#np.log(-1) # 들어가면 안되는 음수 넣으면 에러메시지 nan 이 뜸\n",
        "# 체크해주기 위해 isnan\n",
        "print(np.isnan([1,2,np.nan,3,4]))\n",
        "print(np.isinf([1,2,3,4,np.inf]))"
      ],
      "metadata": {
        "colab": {
          "base_uri": "https://localhost:8080/"
        },
        "id": "--O74PwOPdA0",
        "outputId": "8f1f4a01-22bf-4e56-fda7-753b0198b260"
      },
      "execution_count": 27,
      "outputs": [
        {
          "output_type": "stream",
          "name": "stdout",
          "text": [
            "[False False  True False False]\n",
            "[False False False False  True]\n"
          ]
        }
      ]
    },
    {
      "cell_type": "code",
      "source": [
        "# 분포를 알기 위한 것\n",
        "#max\n",
        "A=np.random.randn(3,4)\n",
        "print(A)\n",
        "print(np.max(A))\n",
        "print(np.max(A,axis=0))\n",
        "# axis=0은 \"행을 따라\", 즉 열(column)끼리 비교한다는 거야.\n",
        "#축 개념:\n",
        "#axis=0 → 세로 방향 비교 (같은 열끼리)\n",
        "#axis=1 → 가로 방향 비교 (같은 행끼리)\n",
        "print(np.max(A,axis=1))\n",
        "# 3열처럼 나와서 가로비교한 행 결과로 유지하고 싶으면\n",
        "print(np.max(A,axis=1,keepdims=True)) #3행1열\n",
        "print(np.max(A,axis=0,keepdims=True)) #1행4열\n",
        "\n",
        "#min\n",
        "print(np.min(A,axis=0,keepdims=True))\n",
        "\n",
        "#argmin, argmax : max,min 값의 인덱스 반환함\n",
        "print(np.argmax(A))\n",
        "print(np.argmin(A))"
      ],
      "metadata": {
        "colab": {
          "base_uri": "https://localhost:8080/"
        },
        "id": "n6OkeVBtQWC2",
        "outputId": "b1f349e4-2a96-441a-f204-d7b018fc767f"
      },
      "execution_count": 28,
      "outputs": [
        {
          "output_type": "stream",
          "name": "stdout",
          "text": [
            "[[-0.33455837  0.08139904  1.22802219  0.40613731]\n",
            " [-0.3078609   0.43614454  0.201413    0.01035949]\n",
            " [-1.41540341  1.26657555  1.25978956  1.40561091]]\n",
            "1.405610914463996\n",
            "[-0.3078609   1.26657555  1.25978956  1.40561091]\n",
            "[1.22802219 0.43614454 1.40561091]\n",
            "[[1.22802219]\n",
            " [0.43614454]\n",
            " [1.40561091]]\n",
            "[[-0.3078609   1.26657555  1.25978956  1.40561091]]\n",
            "[[-1.41540341  0.08139904  0.201413    0.01035949]]\n",
            "11\n",
            "8\n"
          ]
        }
      ]
    },
    {
      "cell_type": "code",
      "source": [
        "a=np.random.randn(6,1)\n",
        "print(a)\n",
        "a_sorted=np.sort(a,axis=0) # sort()사용해 정렬\n",
        "print(a_sorted) # 오름차순\n",
        "print(np.flipud(a_sorted)) #위아래로 뒤집어 flip up down 내림차순으로 바꿈\n"
      ],
      "metadata": {
        "colab": {
          "base_uri": "https://localhost:8080/"
        },
        "id": "gB-Tz7Y3UrJs",
        "outputId": "bb7e39f4-d2a5-4041-bb93-a8a4f7aa8d9f"
      },
      "execution_count": 29,
      "outputs": [
        {
          "output_type": "stream",
          "name": "stdout",
          "text": [
            "[[-0.20482777]\n",
            " [-0.63399272]\n",
            " [ 0.69161706]\n",
            " [-0.0745798 ]\n",
            " [-0.98185008]\n",
            " [ 1.05163418]]\n",
            "[[-0.98185008]\n",
            " [-0.63399272]\n",
            " [-0.20482777]\n",
            " [-0.0745798 ]\n",
            " [ 0.69161706]\n",
            " [ 1.05163418]]\n",
            "[[ 1.05163418]\n",
            " [ 0.69161706]\n",
            " [-0.0745798 ]\n",
            " [-0.20482777]\n",
            " [-0.63399272]\n",
            " [-0.98185008]]\n"
          ]
        }
      ]
    },
    {
      "cell_type": "code",
      "source": [
        "A=np.random.randn(3,4)\n",
        "print(A)\n",
        "print(np.sum(A))\n",
        "print(np.sum(A,axis=1))\n",
        "print(np.sum(A,axis=1,keepdims=True)) #3행1열짜리 2d array\n",
        "print(np.mean(A))\n",
        "print(np.mean(A,axis=1))\n",
        "print(np.sum(A,axis=1,keepdims=True))\n",
        "print(np.std(A)) #standard deviation 표준편차"
      ],
      "metadata": {
        "colab": {
          "base_uri": "https://localhost:8080/"
        },
        "id": "DNLAMygbVTtc",
        "outputId": "03344e78-ea42-4a63-d87d-124967d21852"
      },
      "execution_count": 30,
      "outputs": [
        {
          "output_type": "stream",
          "name": "stdout",
          "text": [
            "[[-0.11703146 -1.14530759 -0.5196557  -1.51172212]\n",
            " [-3.19588667  0.01785561  0.16703896  0.71897753]\n",
            " [ 1.72236513  1.45321391 -0.6145409  -0.00708825]]\n",
            "-3.0317815514829207\n",
            "[-3.29371688 -2.29201456  2.55394989]\n",
            "[[-3.29371688]\n",
            " [-2.29201456]\n",
            " [ 2.55394989]]\n",
            "-0.2526484626235767\n",
            "[-0.82342922 -0.57300364  0.63848747]\n",
            "[[-3.29371688]\n",
            " [-2.29201456]\n",
            " [ 2.55394989]]\n",
            "1.269176929535876\n"
          ]
        }
      ]
    },
    {
      "cell_type": "code",
      "source": [
        "A=np.random.randint(-2,5,size=(12,)) # -2부터 5 미만까지 랜덤정수 12개\n",
        "print(A)\n",
        "print(A.shape)\n",
        "B=A.reshape(2,2,3) # 2행3열 2개 짜리고 reshape 하기\n",
        "print(B)\n",
        "print(B.ndim) #3차원 행렬이다. [[[]]]"
      ],
      "metadata": {
        "colab": {
          "base_uri": "https://localhost:8080/"
        },
        "id": "8N_sAWIaaW17",
        "outputId": "312e4bab-ab86-4c6d-e01a-72eed14e2086"
      },
      "execution_count": 31,
      "outputs": [
        {
          "output_type": "stream",
          "name": "stdout",
          "text": [
            "[ 1  1  1  4  1  1 -1  2  3  3  0 -2]\n",
            "(12,)\n",
            "[[[ 1  1  1]\n",
            "  [ 4  1  1]]\n",
            "\n",
            " [[-1  2  3]\n",
            "  [ 3  0 -2]]]\n",
            "3\n"
          ]
        }
      ]
    },
    {
      "cell_type": "code",
      "source": [
        "# 내적 표현\n",
        "# a,b 내적해서 합인 9 구하기\n",
        "a=np.array([1,2,3])\n",
        "b=np.array([2,2,1])\n",
        "print(a)\n",
        "print(b)\n",
        "print(np.sum(a*b))\n",
        "print(a@b)#1차원은 벡터가 아니라 내적이라 할 수 없지만 에러는 안남\n",
        "# 이 방법은 array 원소수가 다르면 에러남\n",
        "\n",
        "#열벡터로 바꾼 뒤 하나는 전치시켜서 행렬곱 @ 적용하는 방법\n",
        "a= a.reshape(3,1)\n",
        "b= b.reshape(3,1)\n",
        "print(a)\n",
        "print(b)\n",
        "print(np.sum(a.T@b))\n",
        "print(np.sum(a.transpose()@b))\n",
        "\n",
        "# 3D에서 T 활용\n",
        "A=np.random.randn(2,3,4)\n",
        "#print(A)\n",
        "#print(A.T)\n",
        "print(A.transpose(0,1,2).shape) # 그대로 나옴 0번째\n",
        "print(A.transpose(2,1,0).shape) # 뒤집어진 shape으로 나옴\n",
        "print(A.transpose(2,0,1).shape)"
      ],
      "metadata": {
        "colab": {
          "base_uri": "https://localhost:8080/"
        },
        "id": "0N7ZsNtratYX",
        "outputId": "6f9b88ac-2f8f-406b-d2e1-7a8377ffc2e4"
      },
      "execution_count": 32,
      "outputs": [
        {
          "output_type": "stream",
          "name": "stdout",
          "text": [
            "[1 2 3]\n",
            "[2 2 1]\n",
            "9\n",
            "9\n",
            "[[1]\n",
            " [2]\n",
            " [3]]\n",
            "[[2]\n",
            " [2]\n",
            " [1]]\n",
            "9\n",
            "9\n",
            "(2, 3, 4)\n",
            "(4, 3, 2)\n",
            "(4, 2, 3)\n"
          ]
        }
      ]
    },
    {
      "cell_type": "code",
      "source": [
        "A=np.arange(20)\n",
        "print(A)\n",
        "print(A.reshape(4,5)) # 4,하면 무조건 5여야 사이즈가 맞지만,\n",
        "print(A.reshape(4,-1)) # -1 을 뒤에 쓰면, 4개 행이 되도록 열의 수를 맞춰줌\n",
        "print(A.reshape(2,-1)) #-1 은 알아서 채워줌\n",
        "\n",
        "# -1 이용해서 2차원 행벡터, 열벡터 쉽게 만들기\n",
        "print(A.reshape(1,-1)) # 2차원 행 벡터\n",
        "print(A.reshape(-1,1)) # 2차원 열 벡터"
      ],
      "metadata": {
        "colab": {
          "base_uri": "https://localhost:8080/"
        },
        "id": "KQQKMZHAbvdA",
        "outputId": "3d86422c-aaf8-46b8-e8ec-d41565424192"
      },
      "execution_count": 33,
      "outputs": [
        {
          "output_type": "stream",
          "name": "stdout",
          "text": [
            "[ 0  1  2  3  4  5  6  7  8  9 10 11 12 13 14 15 16 17 18 19]\n",
            "[[ 0  1  2  3  4]\n",
            " [ 5  6  7  8  9]\n",
            " [10 11 12 13 14]\n",
            " [15 16 17 18 19]]\n",
            "[[ 0  1  2  3  4]\n",
            " [ 5  6  7  8  9]\n",
            " [10 11 12 13 14]\n",
            " [15 16 17 18 19]]\n",
            "[[ 0  1  2  3  4  5  6  7  8  9]\n",
            " [10 11 12 13 14 15 16 17 18 19]]\n",
            "[[ 0  1  2  3  4  5  6  7  8  9 10 11 12 13 14 15 16 17 18 19]]\n",
            "[[ 0]\n",
            " [ 1]\n",
            " [ 2]\n",
            " [ 3]\n",
            " [ 4]\n",
            " [ 5]\n",
            " [ 6]\n",
            " [ 7]\n",
            " [ 8]\n",
            " [ 9]\n",
            " [10]\n",
            " [11]\n",
            " [12]\n",
            " [13]\n",
            " [14]\n",
            " [15]\n",
            " [16]\n",
            " [17]\n",
            " [18]\n",
            " [19]]\n"
          ]
        }
      ]
    },
    {
      "cell_type": "code",
      "source": [
        "# 고차원 슬라이싱\n",
        "x=np.random.randn(2,3,4,5,6) # 5차원배열, 5개의 축\n",
        "#x\n",
        "#└── 2개의 블록 (axis=0)\n",
        "#    └── 각 블록은 3개의 서브블록 (axis=1)\n",
        "#        └── 각 서브블록은 4개의 배열 (axis=2)\n",
        "#            └── 각 배열은 5개의 벡터 (axis=3)\n",
        "#                └── 각 벡터는 길이 6 (axis=4)\n",
        "\n",
        "print(x[1,2,:,:,:].shape)\n",
        "\n",
        "# x[1, 2, :, :, :]  == x[1, 2]\n",
        "\n",
        "#axis=0: 인덱스 1 선택 (두번째 블록 선택)\n",
        "#axis=1: 인덱스 2 선택 (세번째 서브블록 선택)\n",
        "#axis=2,3,4: 전체 다 (:)\n",
        "#즉, 앞의 두 축(2개 차원)을 \"숫자 인덱스로 고정\"하고, 뒤의 3개 차원은 그대로 유지.\n",
        "#즉, 숫자를 사용하면 그 차원은 사라지고, :을 사용하면 그 차원은 유지됨.\n",
        "\n",
        "#전체 x는 이렇게 생겼다고 상상해봐:\n",
        "#x → (2 blocks)\n",
        "#    └── each block: (3 items)\n",
        "#        └── each item: shape (4, 5, 6)\n",
        "#x[1, 2] → 이건 결국 그 중 한 덩어리만 딱 집은 거야.\n",
        "#그리고 그 덩어리는 shape (4, 5, 6)이니까 그게 남는 거지.\n",
        "\n",
        "#x.shape = (2, 3, 4, 5, 6)\n",
        "\n",
        "#x[1]           → shape (3, 4, 5, 6)\n",
        "#x[1, 2]        → shape (4, 5, 6)     ✅ \"덩어리 하나\"\n",
        "#x[1, 2, :, :, :] → shape (4, 5, 6)  ⬅️ 같은 표현, 명시적으로 쓴 것\n",
        "\n",
        "print(x[1,2,...].shape) # print(x[1,2,:,:,:].shape) 과 같음\n",
        "\n",
        "print(x[:,:,:,:,3].shape)\n",
        "print(x[...,3].shape)\n",
        "print(x[1,:,:,3,:].shape)\n",
        "print(x[1,...,3,:].shape)"
      ],
      "metadata": {
        "colab": {
          "base_uri": "https://localhost:8080/"
        },
        "id": "yk272qSGgVyD",
        "outputId": "cac92105-d05c-41eb-acca-68964bae88cf"
      },
      "execution_count": 34,
      "outputs": [
        {
          "output_type": "stream",
          "name": "stdout",
          "text": [
            "(4, 5, 6)\n",
            "(4, 5, 6)\n",
            "(2, 3, 4, 5)\n",
            "(2, 3, 4, 5)\n",
            "(3, 4, 6)\n",
            "(3, 4, 6)\n"
          ]
        }
      ]
    },
    {
      "cell_type": "markdown",
      "source": [
        "\n",
        "---\n",
        "\n",
        "## 🎯 왜 축 고정 + shape 확인이 중요할까?\n",
        "\n",
        "### 핵심은:\n",
        "\n",
        "> **\"원하는 데이터 구조만 남겨서 정확히 다루기 위해서야.\"**\n",
        "\n",
        "고차원 데이터를 다룰 때, 어떤 축을 **인덱싱해서 없애거나**, 어떤 축을 **슬라이싱해서 유지할지** 결정하는 건\n",
        "→ 모델에 넣기 전 **shape이 원하는 대로 맞는지**\n",
        "→ 수학 연산이 **브로드캐스팅 가능한지**\n",
        "→ 데이터 전처리에서 **특정 위치 정보만 추출할지**\n",
        "를 정확히 알기 위해서야.\n",
        "\n",
        "---\n",
        "\n",
        "## 📌 어디서 자주 쓰이냐면?\n",
        "\n",
        "\n",
        "### 1. 📊 머신러닝/딥러닝에서 배치 처리\n",
        "\n",
        "#### 예: CNN 입력 데이터\n",
        "\n",
        "```python\n",
        "images = np.random.randn(32, 3, 64, 64)  # (batch, channel, height, width)\n",
        "```\n",
        "\n",
        "이럴 때:\n",
        "\n",
        "* `images[0]` → 한 장의 이미지 선택 → shape: `(3, 64, 64)`\n",
        "* `images[:, 0]` → 모든 배치에서 첫 번째 채널만 추출 → shape: `(32, 64, 64)`\n",
        "\n",
        "👉 축을 고정하고 나머지를 슬라이싱하면, 원하는 구조를 뽑아낼 수 있음.\n",
        "\n",
        "---\n",
        "\n",
        "\n",
        "### 2. 🧠 AI 모델에서 Attention이나 Embedding 계산 시\n",
        "\n",
        "```python\n",
        "x = np.random.randn(batch, seq_len, hidden_dim)  # (32, 128, 512)\n",
        "```\n",
        "\n",
        "* `x[:, 0, :]` → 각 문장에서 첫 번째 토큰의 embedding만 추출\n",
        "\n",
        "  * shape: `(32, 512)` ← 축 하나 줄어듦\n",
        "* `x[:, :, 0]` → 각 토큰의 embedding에서 첫 번째 feature만 추출\n",
        "\n",
        "  * shape: `(32, 128)`\n",
        "\n",
        "👉 이걸로 \"특정 토큰\"이나 \"특정 feature\"에만 연산 집중 가능.\n",
        "\n",
        "---\n",
        "\n",
        "\n",
        "### 3. 📐 선형대수에서 벡터/행렬 연산\n",
        "\n",
        "#### 예: 행렬 곱 (dot product)\n",
        "\n",
        "```python\n",
        "A = np.random.randn(10, 20)\n",
        "B = np.random.randn(20, 30)\n",
        "\n",
        "result = np.dot(A, B)  # shape: (10, 30)\n",
        "```\n",
        "\n",
        "근데 `A[0]`은?\n",
        "\n",
        "→ shape: `(20,)`\n",
        "→ `np.dot(A[0], B)` → shape: `(30,)` ← 한 줄(row)에 대한 연산만 수행 가능\n",
        "\n",
        "👉 특정 행만 뽑아서 따로 연산할 때 축을 고정함.\n",
        "\n",
        "---\n",
        "\n",
        "\n",
        "### 4. 🧪 과학/이미지 데이터 처리에서\n",
        "\n",
        "예: 의료 영상 (CT, MRI)은 3D 이상으로 다뤄짐\n",
        "\n",
        "```python\n",
        "scan = np.random.randn(30, 256, 256)  # (slice, height, width)\n",
        "```\n",
        "\n",
        "* `scan[15]` → 16번째 단면 이미지 추출 → shape: `(256, 256)`\n",
        "* `scan[:, 128, 128]` → 모든 슬라이스에서 특정 위치의 값만 추출 → shape: `(30,)`\n",
        "\n",
        "👉 특정 축을 인덱싱해서 의미 있는 데이터만 추출해야 하는 상황\n",
        "\n",
        "---\n",
        "\n",
        "\n",
        "## 💡 그래서 정리하면\n",
        "\n",
        "| 상황    | 축 고정 인덱싱이 필요한 이유     |\n",
        "| ----- | -------------------- |\n",
        "| 모델 학습 | 입력 텐서의 shape 맞추기     |\n",
        "| 전처리   | 특정 위치/feature/토큰만 추출 |\n",
        "| 선형대수  | 벡터·행렬 연산 준비          |\n",
        "| 시각화   | 2D로 slice 잘라보기       |\n",
        "| 디버깅   | shape 찍어보고 연산 오류 확인  |\n",
        "\n",
        "---\n",
        "\n",
        "## 🚧 만약 shape 확인을 안 하고 쓴다면?\n",
        "\n",
        "* **모델 입력 shape mismatch 에러**\n",
        "* **Broadcasting 실패**\n",
        "* **차원 불일치로 연산 오류**\n",
        "* 혹은 결과는 나오지만 **의미 없는 결과**\n",
        "\n",
        "→ 그래서 **고정하고 shape 확인하는 습관이 안전망이자 최적화의 시작**이야.\n",
        "\n",
        "---\n",
        "\n",
        "필요하면 위 예제 중 하나로 직접 실습 코드 같이 짜볼 수도 있어!\n",
        "PyTorch나 TensorFlow로도 예시 보여줄 수 있고!\n",
        "\n",
        "더 궁금한 분야 (예: NLP, 이미지, 모델 구조 등) 있으면 거기 맞춰 더 깊이 설명해줄게 😎\n",
        "\n",
        "\n",
        "좋아, 이제 진짜 실전 예시로 넘어가보자.\n",
        "PyTorch랑 TensorFlow 두 가지 다 보여줄게 — 비교도 쉽도록 똑같은 구조로 설명할게!\n",
        "\n",
        "🎯 목표\n",
        "배치 데이터 중 하나의 샘플만 추출하거나, 특정 축을 고정해 연산하는 실제 예\n",
        "\n",
        "\n",
        "우선 공통적인 전제:\n",
        "```\n",
        "# 공통 텐서 구조: (batch, channel, height, width)\n",
        "# 이미지 데이터 (예: RGB 이미지 32장, 3채널, 64x64 사이즈)\n",
        "```\n",
        "\n",
        "\n",
        "# 🟠 PyTorch 예시\n",
        "```\n",
        "import torch\n",
        "\n",
        "# (batch_size=32, channels=3, height=64, width=64)\n",
        "x = torch.randn(32, 3, 64, 64)\n",
        "\n",
        "# ✅ 1. 배치 중 첫 번째 이미지 가져오기\n",
        "img = x[0]                # shape: (3, 64, 64)\n",
        "print(\"img.shape:\", img.shape)\n",
        "\n",
        "# ✅ 2. 각 이미지에서 첫 번째 채널만 추출\n",
        "first_channel = x[:, 0, :, :]  # shape: (32, 64, 64)\n",
        "print(\"first_channel.shape:\", first_channel.shape)\n",
        "\n",
        "# ✅ 3. 각 이미지의 (32,32) 위치에 있는 RGB 픽셀값만 추출\n",
        "pixel_values = x[:, :, 32, 32] # shape: (32, 3)\n",
        "print(\"pixel_values.shape:\", pixel_values.shape)\n",
        "\n",
        "# ✅ 4. 단일 이미지의 평균값\n",
        "mean_pixel = img.mean()        # 모든 픽셀 평균값 (스칼라)\n",
        "print(\"mean_pixel:\", mean_pixel.item())\n",
        "```\n",
        "\n",
        "\n",
        "# 🔵 TensorFlow 예시\n",
        "```\n",
        "import tensorflow as tf\n",
        "\n",
        "# (batch_size=32, channels=3, height=64, width=64)\n",
        "# TF 기본 순서는 (batch, height, width, channels) 이지만, 여기선 비교 위해 동일하게 설정\n",
        "x = tf.random.normal((32, 3, 64, 64))\n",
        "\n",
        "# ✅ 1. 배치 중 첫 번째 이미지 가져오기\n",
        "img = x[0]                # shape: (3, 64, 64)\n",
        "print(\"img.shape:\", img.shape)\n",
        "\n",
        "# ✅ 2. 각 이미지에서 첫 번째 채널만 추출\n",
        "first_channel = x[:, 0, :, :]  # shape: (32, 64, 64)\n",
        "print(\"first_channel.shape:\", first_channel.shape)\n",
        "\n",
        "# ✅ 3. 각 이미지의 (32,32) 위치에 있는 RGB 픽셀값만 추출\n",
        "pixel_values = x[:, :, 32, 32] # shape: (32, 3)\n",
        "print(\"pixel_values.shape:\", pixel_values.shape)\n",
        "\n",
        "# ✅ 4. 단일 이미지의 평균값\n",
        "mean_pixel = tf.reduce_mean(img)\n",
        "print(\"mean_pixel:\", mean_pixel.numpy())\n",
        "```\n",
        "\n",
        "💡 실전에서 이게 왜 중요하냐면:\n",
        "작업\t축 고정 이유\n",
        "모델 디버깅\t특정 이미지 하나만 확인하고 싶을 때 → x[0]\n",
        "feature 시각화\t첫 번째 채널만 봐야 할 때 → x[:, 0, :, :]\n",
        "attention 연산\t시퀀스 중 특정 토큰만 뽑기 → x[:, 0, :]\n",
        "선형변환 전처리\t특정 위치 벡터 추출 → x[:, :, i, j]\n",
        "학습 전 분석\t입력 한 장의 통계값(mean, std 등) 확인\n",
        "\n",
        "📌 참고: TensorFlow는 순서가 다르다\n",
        "TensorFlow는 기본적으로 NHWC 형식이야:\n",
        "\n",
        "```\n",
        "TF 기본 순서: (batch, height, width, channels)\n",
        "PT 기본 순서: (batch, channels, height, width)\n",
        "```\n",
        "그래서 실제 프로젝트에선 TensorFlow 코드라면 보통 아래처럼 생겼어:\n",
        "\n",
        "```\n",
        "x = tf.random.normal((32, 64, 64, 3))  # (B, H, W, C)\n",
        "x[:, 32, 32, :]  # shape: (32, 3) ← 32x32 위치의 RGB\n",
        "```\n",
        "→ 꼭 framework의 차원 순서 (data format) 를 기억해야 함!\n",
        "\n",
        "필요하면 Transformer 모델, RNN 시퀀스 예시, 1D conv, NLP attention 등 고급 예시도 보여줄 수 있어!\n",
        "어떤 쪽이 네가 공부 중인 방향이랑 맞아? 더 깊게 들어가자 😎"
      ],
      "metadata": {
        "id": "xPtJKcUxrQf0"
      }
    },
    {
      "cell_type": "code",
      "source": [
        "A=np.ones((2,2))\n",
        "B=np.zeros((2,2))\n",
        "C=np.hstack([A,B]) #horizontal stack 가로로 쌓기\n",
        "print(A)\n",
        "print(B)\n",
        "print(C)\n",
        "D=np.vstack([A,B]) #vertical stack 세로로 쌓기\n",
        "print(D)\n",
        "E=np.block([A,B]) # 내 마음대로 쌓기\n",
        "F=np.block([[A],[B]])\n",
        "print(E)\n",
        "print(F)\n",
        "G=np.block([[[A]],[[B]]])\n",
        "print(G)\n",
        "print(G.shape)"
      ],
      "metadata": {
        "colab": {
          "base_uri": "https://localhost:8080/"
        },
        "id": "CKZUELwKtcmt",
        "outputId": "e9432335-8d59-448f-fc02-770e362bd040"
      },
      "execution_count": 35,
      "outputs": [
        {
          "output_type": "stream",
          "name": "stdout",
          "text": [
            "[[1. 1.]\n",
            " [1. 1.]]\n",
            "[[0. 0.]\n",
            " [0. 0.]]\n",
            "[[1. 1. 0. 0.]\n",
            " [1. 1. 0. 0.]]\n",
            "[[1. 1.]\n",
            " [1. 1.]\n",
            " [0. 0.]\n",
            " [0. 0.]]\n",
            "[[1. 1. 0. 0.]\n",
            " [1. 1. 0. 0.]]\n",
            "[[1. 1.]\n",
            " [1. 1.]\n",
            " [0. 0.]\n",
            " [0. 0.]]\n",
            "[[[1. 1.]\n",
            "  [1. 1.]]\n",
            "\n",
            " [[0. 0.]\n",
            "  [0. 0.]]]\n",
            "(2, 2, 2)\n"
          ]
        }
      ]
    },
    {
      "cell_type": "code",
      "source": [
        "# 1차원이 겹겹이 있을 때 squeeze로 정리하기\n",
        "A = np.random.randn(1,1,1,3,1,1,4,1) # 1이 쓸데없이 많을 때, 정작 3행4열에 위치하는 것\n",
        "print(A)\n",
        "# 이를 정리해주는 방법이 squeeze\n",
        "print(np.squeeze(A).shape) # 1은 다 없애줌\n",
        "# 내가 원하는 1만 없애고 싶을 때\n",
        "print(A.squeeze().shape)\n",
        "print(A.squeeze(axis=(0,2,4,5)).shape)  # 없애고 싶은 곳의 axis 적어줌\n"
      ],
      "metadata": {
        "colab": {
          "base_uri": "https://localhost:8080/"
        },
        "id": "rmVbS3yxvO6x",
        "outputId": "63fe0645-edec-4f86-a1d2-c288689d3ac9"
      },
      "execution_count": 36,
      "outputs": [
        {
          "output_type": "stream",
          "name": "stdout",
          "text": [
            "[[[[[[[[-2.00636612]\n",
            "       [ 1.58909618]\n",
            "       [ 1.33552506]\n",
            "       [-0.89005448]]]]\n",
            "\n",
            "\n",
            "\n",
            "    [[[[ 1.66499148]\n",
            "       [-0.97233535]\n",
            "       [-1.17492519]\n",
            "       [ 0.05371511]]]]\n",
            "\n",
            "\n",
            "\n",
            "    [[[[ 0.54901356]\n",
            "       [ 0.69166368]\n",
            "       [-1.291869  ]\n",
            "       [-0.33379046]]]]]]]]\n",
            "(3, 4)\n",
            "(3, 4)\n",
            "(1, 3, 4, 1)\n"
          ]
        }
      ]
    },
    {
      "cell_type": "code",
      "source": [
        "# 새로운 축 만들기\n",
        "A=np.random.randn(3,4)\n",
        "A1=A[np.newaxis,...] #np.newaxis is None <-True\n",
        "print(A1.shape)\n",
        "A2 = A[...,np.newaxis]\n",
        "print(A2.shape)\n",
        "A3 =A[:,np.newaxis,:]\n",
        "print(A3.shape)\n",
        "# expand_dims  위와 같은 결과 다르게 추가하기\n",
        "A1=np.expand_dims(A,axis=0)\n",
        "print(A1.shape)\n",
        "A2=np.expand_dims(A,axis=2)\n",
        "print(A2.shape)\n",
        "A3=np.expand_dims(A,axis=1)\n",
        "print(A3.shape)\n",
        "#reshape으로 같은결과\n",
        "A1=A.reshape(1,3,4)\n",
        "print(A1.shape)\n",
        "A2=A.reshape(3,4,1)\n",
        "print(A2.shape)\n",
        "A3=A.reshape(3,1,4)\n",
        "print(A3.shape)"
      ],
      "metadata": {
        "colab": {
          "base_uri": "https://localhost:8080/"
        },
        "id": "V8QkimWLwoFu",
        "outputId": "6f40b192-d6f9-40bd-e93b-e6bdfd9ac754"
      },
      "execution_count": 38,
      "outputs": [
        {
          "output_type": "stream",
          "name": "stdout",
          "text": [
            "(1, 3, 4)\n",
            "(3, 4, 1)\n",
            "(3, 1, 4)\n",
            "(1, 3, 4)\n",
            "(3, 4, 1)\n",
            "(3, 1, 4)\n",
            "(1, 3, 4)\n",
            "(3, 4, 1)\n",
            "(3, 1, 4)\n"
          ]
        }
      ]
    }
  ]
}